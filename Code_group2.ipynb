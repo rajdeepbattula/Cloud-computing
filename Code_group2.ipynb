{
  "cells": [
    {
      "cell_type": "code",
      "execution_count": 1,
      "metadata": {
        "id": "4DVzpASkAtBJ"
      },
      "outputs": [],
      "source": [
        "!apt-get install openjdk-8-jdk-headless -qq > /dev/null\n",
        "!wget -q https://archive.apache.org/dist/spark/spark-3.2.0/spark-3.2.0-bin-hadoop3.2.tgz\n",
        "!tar xf spark-3.2.0-bin-hadoop3.2.tgz\n",
        "!pip install -q findspark"
      ]
    },
    {
      "cell_type": "code",
      "execution_count": 2,
      "metadata": {
        "id": "dYmI9LiTAwpd"
      },
      "outputs": [],
      "source": [
        "import os\n",
        "os.environ[\"JAVA_HOME\"] = \"/usr/lib/jvm/java-8-openjdk-amd64\"\n",
        "os.environ[\"SPARK_HOME\"] = \"spark-3.2.0-bin-hadoop3.2\""
      ]
    },
    {
      "cell_type": "code",
      "execution_count": 3,
      "metadata": {
        "id": "LHBrTCmsA4Ob"
      },
      "outputs": [],
      "source": [
        "import findspark\n",
        "findspark.init()"
      ]
    },
    {
      "cell_type": "code",
      "execution_count": 4,
      "metadata": {
        "colab": {
          "base_uri": "https://localhost:8080/",
          "height": 197
        },
        "id": "mOjTRQzRA4Ms",
        "outputId": "ab72dc7c-3742-4ff8-f2e8-8424971eca25"
      },
      "outputs": [
        {
          "output_type": "execute_result",
          "data": {
            "text/plain": [
              "<SparkContext master=local[*] appName=pyspark-shell>"
            ],
            "text/html": [
              "\n",
              "        <div>\n",
              "            <p><b>SparkContext</b></p>\n",
              "\n",
              "            <p><a href=\"http://8d8641cfc93a:4040\">Spark UI</a></p>\n",
              "\n",
              "            <dl>\n",
              "              <dt>Version</dt>\n",
              "                <dd><code>v3.2.0</code></dd>\n",
              "              <dt>Master</dt>\n",
              "                <dd><code>local[*]</code></dd>\n",
              "              <dt>AppName</dt>\n",
              "                <dd><code>pyspark-shell</code></dd>\n",
              "            </dl>\n",
              "        </div>\n",
              "        "
            ]
          },
          "metadata": {},
          "execution_count": 4
        }
      ],
      "source": [
        "from pyspark.sql import SparkSession\n",
        "spark = SparkSession.builder.master(\"local[*]\").getOrCreate()\n",
        "sc = spark.sparkContext\n",
        "sc"
      ]
    },
    {
      "cell_type": "code",
      "execution_count": 5,
      "metadata": {
        "colab": {
          "base_uri": "https://localhost:8080/"
        },
        "id": "tptkjL8sA4Kv",
        "outputId": "afc9082f-85c8-4a9f-b726-06fb70b4568a"
      },
      "outputs": [
        {
          "output_type": "stream",
          "name": "stdout",
          "text": [
            "Mounted at /content/drive\n"
          ]
        }
      ],
      "source": [
        "from google.colab import drive\n",
        "drive.mount('/content/drive')"
      ]
    },
    {
      "cell_type": "markdown",
      "metadata": {
        "id": "wUybNbXclDCJ"
      },
      "source": [
        "# **Loading the dataset**"
      ]
    },
    {
      "cell_type": "code",
      "execution_count": 6,
      "metadata": {
        "id": "-GclsZmPBGlI"
      },
      "outputs": [],
      "source": [
        "path = '/content/drive/MyDrive/twcs.csv'"
      ]
    },
    {
      "cell_type": "code",
      "execution_count": 7,
      "metadata": {
        "id": "qqnvVgybA4Ip"
      },
      "outputs": [],
      "source": [
        "tweetdf = spark.read.csv(path, header = True)"
      ]
    },
    {
      "cell_type": "code",
      "execution_count": 8,
      "metadata": {
        "colab": {
          "base_uri": "https://localhost:8080/"
        },
        "id": "rgVdhM57s0o_",
        "outputId": "eda5fedc-6ca1-40d3-b199-62c6fcb1ff97"
      },
      "outputs": [
        {
          "output_type": "stream",
          "name": "stdout",
          "text": [
            "+--------------------+--------------+-------+--------------------+--------------------+--------------------+-----------------------+\n",
            "|            tweet_id|     author_id|inbound|          created_at|                text|   response_tweet_id|in_response_to_tweet_id|\n",
            "+--------------------+--------------+-------+--------------------+--------------------+--------------------+-----------------------+\n",
            "|                   1|    sprintcare|  False|Tue Oct 31 22:10:...|@115712 I underst...|                   2|                      3|\n",
            "|                   2|        115712|   True|Tue Oct 31 22:11:...|@sprintcare and h...|                null|                      1|\n",
            "|                   3|        115712|   True|Tue Oct 31 22:08:...|@sprintcare I hav...|                   1|                      4|\n",
            "|                   4|    sprintcare|  False|Tue Oct 31 21:54:...|@115712 Please se...|                   3|                      5|\n",
            "|                   5|        115712|   True|Tue Oct 31 21:49:...|  @sprintcare I did.|                   4|                      6|\n",
            "|                   6|    sprintcare|  False|Tue Oct 31 21:46:...|@115712 Can you p...|                 5,7|                      8|\n",
            "|                   8|        115712|   True|Tue Oct 31 21:45:...|@sprintcare is th...|              9,6,10|                   null|\n",
            "|                  11|    sprintcare|  False|Tue Oct 31 22:10:...|@115713 This is s...|                null|                     12|\n",
            "|                  12|        115713|   True|Tue Oct 31 22:04:...|@sprintcare You g...|            11,13,14|                     15|\n",
            "|                  15|    sprintcare|  False|Tue Oct 31 20:03:...|@115713 We unders...|                  12|                     16|\n",
            "|                  16|        115713|   True|Tue Oct 31 20:00:...|@sprintcare Since...|                  15|                     17|\n",
            "|                  17|    sprintcare|  False|Tue Oct 31 19:59:...|@115713 H there! ...|                  16|                     18|\n",
            "|                  18|        115713|   True|Tue Oct 31 19:56:...|@115714 y’all lie...|                  17|                   null|\n",
            "|                  19|    sprintcare|  False|Tue Oct 31 22:10:...|@115715 Please se...|                null|                     20|\n",
            "|                  20|        115715|   True|Tue Oct 31 22:03:...|@115714 whenever ...|                  19|                   null|\n",
            "|                  21|  Ask_Spectrum|  False|Tue Oct 31 22:14:...|@115716 What info...|               22,23|                     24|\n",
            "|                  22|        115716|   True|Tue Oct 31 22:16:...|@Ask_Spectrum Wou...|                  25|                     21|\n",
            "|                  25|  Ask_Spectrum|  False|Tue Oct 31 22:18:...|@115716 Our depar...|                  26|                     22|\n",
            "|                  26|        115716|   True|Tue Oct 31 22:19:...|@Ask_Spectrum I r...|                  27|                     25|\n",
            "|                  27|  Ask_Spectrum|  False|Tue Oct 31 22:21:...|@115716 No thank ...|                null|                     26|\n",
            "|                  23|        115716|   True|Tue Oct 31 22:16:...|@Ask_Spectrum The...|                null|                     21|\n",
            "|                  24|        115716|   True|Tue Oct 31 22:13:...|@Ask_Spectrum Tha...|                  21|                     28|\n",
            "|                  28|  Ask_Spectrum|  False|Tue Oct 31 22:05:...|@115716 The infor...|                  24|                     29|\n",
            "|                  29|        115716|   True|Tue Oct 31 22:01:...|actually that's a...|                  28|                   null|\n",
            "|                  30|  Ask_Spectrum|  False|Tue Oct 31 22:12:...|@115717 Hello, My...|                null|                     31|\n",
            "|                  31|        115717|   True|Tue Oct 31 22:06:...|Yo @Ask_Spectrum,...|                  30|                   null|\n",
            "|                  32|  Ask_Spectrum|  False|Tue Oct 31 22:10:...|@115718 I apologi...|                null|                     33|\n",
            "|                  33|        115718|   True|Tue Oct 31 22:06:...|My picture on @As...|                  32|                   null|\n",
            "|                  34|VerizonSupport|  False|Tue Oct 31 22:13:...|@115719 Help has ...|                null|                   null|\n",
            "|               ^HSB\"|            35|     36|                null|                null|                null|                   null|\n",
            "|                  35|        115719|   True|Tue Oct 31 22:49:...|@VerizonSupport I...|                  37|                     34|\n",
            "|                  37|VerizonSupport|  False|Tue Oct 31 22:52:...|@115719 Awesome! ...|                null|                   null|\n",
            "|               ^HSB\"|          null|     35|                null|                null|                null|                   null|\n",
            "|                  36|        115719|   True|Tue Oct 31 22:10:...|somebody from @Ve...|                  34|                   null|\n",
            "|                  38|VerizonSupport|  False|Tue Oct 31 22:13:...|@115720 Have your...|                null|                   null|\n",
            "|               ^ACM\"|          null|     39|                null|                null|                null|                   null|\n",
            "|                  39|        115720|   True|Tue Oct 31 22:12:...|@VerizonSupport M...|                  38|                   null|\n",
            "|                  40|VerizonSupport|  False|Tue Oct 31 22:12:...|@115721 Please fo...|                null|                   null|\n",
            "|               ^HSB\"|            41|     42|                null|                null|                null|                   null|\n",
            "|                  41|        115721|   True|Tue Oct 31 22:24:...|@VerizonSupport W...|                  43|                     40|\n",
            "|                  43|VerizonSupport|  False|Tue Oct 31 22:29:...|@115721 We would ...|                null|                   null|\n",
            "|               ^JAY\"|            44|     41|                null|                null|                null|                   null|\n",
            "|                  44|        115721|   True|Tue Oct 31 22:32:...|@VerizonSupport H...|                  45|                     43|\n",
            "|                  45|VerizonSupport|  False|Tue Oct 31 22:36:...|@115721 We can us...|                null|                   null|\n",
            "|               ^HSB\"|          null|     44|                null|                null|                null|                   null|\n",
            "|                  42|        115721|   True|Tue Oct 31 22:06:...|@115722 MD. And t...|                  40|                     46|\n",
            "|                  46|        115722|   True|Tue Oct 31 22:04:...|@115721 Hello Duk...|                null|                   null|\n",
            "|               ^NHP\"|            42|     47|                null|                null|                null|                   null|\n",
            "|                  47|        115721|   True|Tue Oct 31 22:01:...|@115722 Nobody ca...|                  46|                     48|\n",
            "|                  48|        115722|   True|Tue Oct 31 21:49:...|@115721 Are you r...|                null|                   null|\n",
            "|               ^JAY\"|            47|     49|                null|                null|                null|                   null|\n",
            "|                  49|        115721|   True|Tue Oct 31 21:42:...|@115722 tried to ...|                  48|                   null|\n",
            "|                  50|VerizonSupport|  False|Tue Oct 31 22:07:...|@115723 Is the li...|                null|                   null|\n",
            "|               ^JAY\"|          null|     51|                null|                null|                null|                   null|\n",
            "|                  51|        115723|   True|Tue Oct 31 22:04:...|@VerizonSupport D...|                  50|                     52|\n",
            "|                  52|VerizonSupport|  False|Tue Oct 31 22:03:...|@115723 Did the l...|                null|                   null|\n",
            "|               ^JAY\"|            51|     53|                null|                null|                null|                   null|\n",
            "|                  53|        115723|   True|Tue Oct 31 21:58:...|@VerizonSupport J...|                  52|                     54|\n",
            "|                  54|VerizonSupport|  False|Tue Oct 31 20:11:...|@115723 Do you ha...|                  53|                     55|\n",
            "|                  55|        115723|   True|Tue Oct 31 20:09:...| @VerizonSupport Yep|                  54|                     56|\n",
            "|                  56|VerizonSupport|  False|Tue Oct 31 20:02:...|@115723 Are all y...|                null|                   null|\n",
            "|               ^ACM\"|            55|     57|                null|                null|                null|                   null|\n",
            "|                  57|        115723|   True|Tue Oct 31 19:58:...|@VerizonSupport C...|                  56|                     58|\n",
            "|                  58|VerizonSupport|  False|Tue Oct 31 19:57:...|@115723 What did ...|                  57|                     59|\n",
            "|                  59|        115723|   True|Tue Oct 31 19:54:...|@115722 is the wo...|                  58|                   null|\n",
            "|                  60|VerizonSupport|  False|Tue Oct 31 22:04:...|@115724 In what a...|                null|                   null|\n",
            "|               ^HSB\"|          null|     61|                null|                null|                null|                   null|\n",
            "|                  61|        115724|   True|Tue Oct 31 22:00:...|.@VerizonSupport ...|                null|                   null|\n",
            "|When can we expec...|            60|   null|                null|                null|                null|                   null|\n",
            "|                  62|VerizonSupport|  False|Tue Oct 31 22:00:...|@115727 Which app...|                null|                   null|\n",
            "|               ^ACM\"|          null|     63|                null|                null|                null|                   null|\n",
            "|                  63|        115727|   True|Tue Oct 31 21:56:...|@115725 fix your ...|                  62|                   null|\n",
            "|                  64|ChipotleTweets|  False|Tue Oct 31 22:14:...|@115728 I still t...|                  65|                     66|\n",
            "|                  65|        115728|   True|Tue Oct 31 22:15:...|@ChipotleTweets @...|                null|                     64|\n",
            "|                  66|        115728|   True|Tue Oct 31 22:03:...|@ChipotleTweets @28 |                null|                   null|\n",
            "|I don't fit in my...|         64,67|   null|                null|                null|                null|                   null|\n",
            "|                  68|ChipotleTweets|  False|Tue Oct 31 22:14:...|@115729 I'm so so...|                null|                     69|\n",
            "|                  69|        115729|   True|Tue Oct 31 22:03:...|@ChipotleTweets m...|                  68|                   null|\n",
            "|                  70|ChipotleTweets|  False|Tue Oct 31 22:13:...|@115730 Hopefully...|                null|                     71|\n",
            "|                  71|        115730|   True|Tue Oct 31 22:03:...|hey @ChipotleTwee...|               70,72|                   null|\n",
            "|                  73|ChipotleTweets|  False|Tue Oct 31 22:12:...|@115731 Guac on! ...|                null|                     74|\n",
            "|                  74|        115731|   True|Tue Oct 31 22:01:...|@ChipotleTweets I...|                  73|                     75|\n",
            "|                  75|ChipotleTweets|  False|Tue Oct 31 20:37:...|@115731 It's beca...|                  74|                     76|\n",
            "|                  76|        115731|   True|Tue Oct 31 20:21:...|When you're the o...|                  75|                   null|\n",
            "|                  77|ChipotleTweets|  False|Tue Oct 31 22:11:...|@115732 That's in...|                null|                     78|\n",
            "|                  78|        115732|   True|Tue Oct 31 22:01:...|@ChipotleTweets n...|                  77|                   null|\n",
            "|                  79|ChipotleTweets|  False|Tue Oct 31 22:11:...|@115733 Nope! Sti...|                null|                     80|\n",
            "|                  80|        115733|   True|Tue Oct 31 22:01:...|@ChipotleTweets I...|                  79|                     81|\n",
            "|                  81|ChipotleTweets|  False|Mon Oct 30 15:00:...|Just stop by in c...|80,82,83,84,85,86...|                   null|\n",
            "|                 152|ChipotleTweets|  False|Tue Oct 31 22:10:...|@115734 I mean, B...|                null|                    153|\n",
            "|                 153|        115734|   True|Tue Oct 31 22:01:...|Happy Halloween! ...|                 152|                   null|\n",
            "|                 154|ChipotleTweets|  False|Tue Oct 31 22:09:...|@115735 I'm so gl...|                null|                    155|\n",
            "|                 155|        115735|   True|Tue Oct 31 22:00:...|@ChipotleTweets T...|                 154|                    156|\n",
            "|                 156|        115735|   True|Mon Oct 23 03:19:...|So frustrated wit...|             155,157|                   null|\n",
            "|                 158|ChipotleTweets|  False|Tue Oct 31 22:08:...|@115736 All of ou...|                null|                    159|\n",
            "|                 159|        115736|   True|Tue Oct 31 22:00:...|Btw @ChipotleTwee...|                 158|                   null|\n",
            "|                 160|ChipotleTweets|  False|Tue Oct 31 22:06:...|@115737 My apolog...|                null|                    161|\n",
            "|                 161|        115737|   True|Tue Oct 31 21:59:...|@ChipotleTweets T...|                 160|                    162|\n",
            "|                 162|ChipotleTweets|  False|Tue Oct 31 19:51:...|@115737 Give it a...|                 161|                    163|\n",
            "|                 163|        115737|   True|Tue Oct 31 19:43:...|@ChipotleTweets c...|                 162|                   null|\n",
            "+--------------------+--------------+-------+--------------------+--------------------+--------------------+-----------------------+\n",
            "only showing top 100 rows\n",
            "\n"
          ]
        }
      ],
      "source": [
        "tweetdf.show(100)"
      ]
    },
    {
      "cell_type": "markdown",
      "metadata": {
        "id": "XNeVwSprlR-2"
      },
      "source": [
        "# **Filtering out all rows with non numeric tweet id (unimportant rows)**"
      ]
    },
    {
      "cell_type": "code",
      "execution_count": 9,
      "metadata": {
        "id": "CCweLTD8A4Fg"
      },
      "outputs": [],
      "source": [
        "import pyspark.sql\n",
        "from pyspark.sql import Row\n",
        "from pyspark.sql.types import *\n",
        "import json\n",
        "from pyspark.sql.functions import col\n",
        "tweetdf1 = tweetdf.filter(col(\"tweet_id\").rlike(\"^[0-9]*$\"))"
      ]
    },
    {
      "cell_type": "code",
      "execution_count": 10,
      "metadata": {
        "colab": {
          "base_uri": "https://localhost:8080/"
        },
        "id": "VzzYwlbtBPWw",
        "outputId": "335fa0b2-055a-4b14-c25f-42f670936fde"
      },
      "outputs": [
        {
          "output_type": "stream",
          "name": "stdout",
          "text": [
            "+--------+------------+-------+--------------------+--------------------+-----------------+-----------------------+\n",
            "|tweet_id|   author_id|inbound|          created_at|                text|response_tweet_id|in_response_to_tweet_id|\n",
            "+--------+------------+-------+--------------------+--------------------+-----------------+-----------------------+\n",
            "|       1|  sprintcare|  False|Tue Oct 31 22:10:...|@115712 I underst...|                2|                      3|\n",
            "|       2|      115712|   True|Tue Oct 31 22:11:...|@sprintcare and h...|             null|                      1|\n",
            "|       3|      115712|   True|Tue Oct 31 22:08:...|@sprintcare I hav...|                1|                      4|\n",
            "|       4|  sprintcare|  False|Tue Oct 31 21:54:...|@115712 Please se...|                3|                      5|\n",
            "|       5|      115712|   True|Tue Oct 31 21:49:...|  @sprintcare I did.|                4|                      6|\n",
            "|       6|  sprintcare|  False|Tue Oct 31 21:46:...|@115712 Can you p...|              5,7|                      8|\n",
            "|       8|      115712|   True|Tue Oct 31 21:45:...|@sprintcare is th...|           9,6,10|                   null|\n",
            "|      11|  sprintcare|  False|Tue Oct 31 22:10:...|@115713 This is s...|             null|                     12|\n",
            "|      12|      115713|   True|Tue Oct 31 22:04:...|@sprintcare You g...|         11,13,14|                     15|\n",
            "|      15|  sprintcare|  False|Tue Oct 31 20:03:...|@115713 We unders...|               12|                     16|\n",
            "|      16|      115713|   True|Tue Oct 31 20:00:...|@sprintcare Since...|               15|                     17|\n",
            "|      17|  sprintcare|  False|Tue Oct 31 19:59:...|@115713 H there! ...|               16|                     18|\n",
            "|      18|      115713|   True|Tue Oct 31 19:56:...|@115714 y’all lie...|               17|                   null|\n",
            "|      19|  sprintcare|  False|Tue Oct 31 22:10:...|@115715 Please se...|             null|                     20|\n",
            "|      20|      115715|   True|Tue Oct 31 22:03:...|@115714 whenever ...|               19|                   null|\n",
            "|      21|Ask_Spectrum|  False|Tue Oct 31 22:14:...|@115716 What info...|            22,23|                     24|\n",
            "|      22|      115716|   True|Tue Oct 31 22:16:...|@Ask_Spectrum Wou...|               25|                     21|\n",
            "|      25|Ask_Spectrum|  False|Tue Oct 31 22:18:...|@115716 Our depar...|               26|                     22|\n",
            "|      26|      115716|   True|Tue Oct 31 22:19:...|@Ask_Spectrum I r...|               27|                     25|\n",
            "|      27|Ask_Spectrum|  False|Tue Oct 31 22:21:...|@115716 No thank ...|             null|                     26|\n",
            "+--------+------------+-------+--------------------+--------------------+-----------------+-----------------------+\n",
            "only showing top 20 rows\n",
            "\n"
          ]
        }
      ],
      "source": [
        "tweetdf1.show()"
      ]
    },
    {
      "cell_type": "markdown",
      "metadata": {
        "id": "GTrEgcOZld5o"
      },
      "source": [
        "# **Splitting the dataset based on customer tweet and customer care tweet by checking the numeric value of author_id**"
      ]
    },
    {
      "cell_type": "code",
      "execution_count": 11,
      "metadata": {
        "id": "eIcMdvpgBRWs"
      },
      "outputs": [],
      "source": [
        "custtweet = tweetdf1.filter(col(\"author_id\").rlike(\"^[0-9]*$\"))"
      ]
    },
    {
      "cell_type": "code",
      "execution_count": 12,
      "metadata": {
        "id": "voDudJq7BXwp"
      },
      "outputs": [],
      "source": [
        "custtweet1 = custtweet.withColumn(\"tweet_id\", custtweet[\"tweet_id\"].cast(\"Integer\"))"
      ]
    },
    {
      "cell_type": "code",
      "execution_count": 13,
      "metadata": {
        "colab": {
          "base_uri": "https://localhost:8080/"
        },
        "id": "O2D_gTx4Bavj",
        "outputId": "b1d504ed-e500-4032-85cc-0658a96676da"
      },
      "outputs": [
        {
          "output_type": "stream",
          "name": "stdout",
          "text": [
            "(1537853, 7)\n"
          ]
        }
      ],
      "source": [
        "print((custtweet1.count(), len(custtweet1.columns)))"
      ]
    },
    {
      "cell_type": "code",
      "execution_count": 14,
      "metadata": {
        "id": "KSRG-XvHBhtr"
      },
      "outputs": [],
      "source": [
        "custtweet2 = custtweet1.where(custtweet1.text.isNotNull())"
      ]
    },
    {
      "cell_type": "code",
      "execution_count": 15,
      "metadata": {
        "id": "QvW1WoJlkle1"
      },
      "outputs": [],
      "source": [
        "custtweet3 = custtweet2.select(\"tweet_id\",\"created_at\",\"text\")"
      ]
    },
    {
      "cell_type": "code",
      "execution_count": 16,
      "metadata": {
        "colab": {
          "base_uri": "https://localhost:8080/"
        },
        "id": "yU1e0cWllxgV",
        "outputId": "34e4e090-740d-4bb8-ed88-4f3331656311"
      },
      "outputs": [
        {
          "output_type": "stream",
          "name": "stdout",
          "text": [
            "+--------+--------------------+--------------------+\n",
            "|tweet_id|          created_at|                text|\n",
            "+--------+--------------------+--------------------+\n",
            "|       2|Tue Oct 31 22:11:...|@sprintcare and h...|\n",
            "|       3|Tue Oct 31 22:08:...|@sprintcare I hav...|\n",
            "|       5|Tue Oct 31 21:49:...|  @sprintcare I did.|\n",
            "|       8|Tue Oct 31 21:45:...|@sprintcare is th...|\n",
            "|      12|Tue Oct 31 22:04:...|@sprintcare You g...|\n",
            "|      16|Tue Oct 31 20:00:...|@sprintcare Since...|\n",
            "|      18|Tue Oct 31 19:56:...|@115714 y’all lie...|\n",
            "|      20|Tue Oct 31 22:03:...|@115714 whenever ...|\n",
            "|      22|Tue Oct 31 22:16:...|@Ask_Spectrum Wou...|\n",
            "|      26|Tue Oct 31 22:19:...|@Ask_Spectrum I r...|\n",
            "|      23|Tue Oct 31 22:16:...|@Ask_Spectrum The...|\n",
            "|      24|Tue Oct 31 22:13:...|@Ask_Spectrum Tha...|\n",
            "|      29|Tue Oct 31 22:01:...|actually that's a...|\n",
            "|      31|Tue Oct 31 22:06:...|Yo @Ask_Spectrum,...|\n",
            "|      33|Tue Oct 31 22:06:...|My picture on @As...|\n",
            "|      35|Tue Oct 31 22:49:...|@VerizonSupport I...|\n",
            "|      36|Tue Oct 31 22:10:...|somebody from @Ve...|\n",
            "|      39|Tue Oct 31 22:12:...|@VerizonSupport M...|\n",
            "|      41|Tue Oct 31 22:24:...|@VerizonSupport W...|\n",
            "|      44|Tue Oct 31 22:32:...|@VerizonSupport H...|\n",
            "+--------+--------------------+--------------------+\n",
            "only showing top 20 rows\n",
            "\n"
          ]
        }
      ],
      "source": [
        "custtweet3.show()"
      ]
    },
    {
      "cell_type": "code",
      "execution_count": 17,
      "metadata": {
        "id": "BcQdKtz4Bixu"
      },
      "outputs": [],
      "source": [
        "caretweet = tweetdf1.subtract(custtweet)"
      ]
    },
    {
      "cell_type": "code",
      "execution_count": 18,
      "metadata": {
        "id": "yKc75gEDBnwu"
      },
      "outputs": [],
      "source": [
        "caretweet1 = caretweet.withColumn(\"in_response_to_tweet_id\", caretweet[\"in_response_to_tweet_id\"].cast(\"Integer\"))"
      ]
    },
    {
      "cell_type": "code",
      "execution_count": 19,
      "metadata": {
        "colab": {
          "base_uri": "https://localhost:8080/"
        },
        "id": "fq1Sm3whjEJs",
        "outputId": "7f6bd488-9be3-4327-e98b-772b881e7bc7"
      },
      "outputs": [
        {
          "output_type": "stream",
          "name": "stdout",
          "text": [
            "+--------+---------------+-------+--------------------+--------------------+-----------------+-----------------------+\n",
            "|tweet_id|      author_id|inbound|          created_at|                text|response_tweet_id|in_response_to_tweet_id|\n",
            "+--------+---------------+-------+--------------------+--------------------+-----------------+-----------------------+\n",
            "|     599|      McDonalds|  False|Tue Oct 31 22:09:...|@115810 Chocolate...|             null|                    487|\n",
            "|    1178|   VirginTrains|  False|Tue Oct 31 22:18:...|@115920 You'd nee...|             1179|                   1180|\n",
            "|    1980|    TMobileHelp|  False|Tue Oct 31 23:07:...|@116151 @115913 P...|   1982,1983,1984|                   1978|\n",
            "|    3296|          Delta|  False|Sat Nov 25 23:23:...|@116477 Please al...|             3295|                   3297|\n",
            "|    3889|   SpotifyCares|  False|Tue Oct 31 22:39:...|@116649 Hi Nico! ...|             3888|                   3890|\n",
            "|    4539|    XboxSupport|  False|Tue Oct 31 23:06:...|@116776 Hi, we ca...|             4540|                   4541|\n",
            "|    4670|   SouthwestAir|  False|Sun Nov 26 00:43:...|@116817 No, my ea...|             4671|                   4669|\n",
            "|    4959|          Tesco|  False|Tue Oct 31 23:17:...|@116878 Hi there,...|             4960|                   4961|\n",
            "|    5283|     AmazonHelp|  False|Sun Nov 26 00:19:...|@116923 We'd like...|             5284|                   5285|\n",
            "|    5349|    TMobileHelp|  False|Tue Oct 31 23:24:...|@116940 Oh my! Se...|             null|                   5350|\n",
            "|    5490| ChipotleTweets|  False|Tue Oct 31 23:21:...|@116987 I like wh...|             null|                   5491|\n",
            "|    5577| AskPlayStation|  False|Tue Oct 31 23:23:...|@117017 Te hemos ...|             null|                   5578|\n",
            "|    5599|   ChaseSupport|  False|Tue Oct 31 23:08:...|@117021 2/2 with ...|             null|                   5600|\n",
            "|    5915|    airtel_care|  False|Tue Oct 31 23:32:...|@117127 @117128 H...|             null|                   5916|\n",
            "|    7618|    TMobileHelp|  False|Wed Nov 22 11:13:...|@117287 @115913 K...|             null|                   7619|\n",
            "|    8703|   SpotifyCares|  False|Sun Oct 29 18:42:...|@117529 Hey! We'r...|             8701|                   8704|\n",
            "|    9121|     AmazonHelp|  False|Wed Nov 01 00:28:...|@117631 Thanks fo...|             null|                   9119|\n",
            "|   10339|     sprintcare|  False|Wed Nov 01 00:24:...|@117730 Is there ...|            10340|                  10341|\n",
            "|   10461| VerizonSupport|  False|Wed Nov 01 00:30:...|\"@117904 The \"\"ch...|            10462|                  10459|\n",
            "|   10727|British_Airways|  False|Wed Nov 01 00:34:...|@117981 Hi Kevin,...|            10728|                  10729|\n",
            "+--------+---------------+-------+--------------------+--------------------+-----------------+-----------------------+\n",
            "only showing top 20 rows\n",
            "\n"
          ]
        }
      ],
      "source": [
        "caretweet1.show()"
      ]
    },
    {
      "cell_type": "code",
      "execution_count": 20,
      "metadata": {
        "id": "C30UuHRYjLqd"
      },
      "outputs": [],
      "source": [
        "caretweet2 = caretweet1.select(\"in_response_to_tweet_id\",\"author_id\",\"created_at\")"
      ]
    },
    {
      "cell_type": "code",
      "execution_count": 21,
      "metadata": {
        "id": "qm2p4onbjflX"
      },
      "outputs": [],
      "source": [
        "caretweet3 = caretweet2.withColumnRenamed(\"author_id\",\"company_name\")\\\n",
        ".withColumnRenamed(\"created_at\", \"response_time\")"
      ]
    },
    {
      "cell_type": "markdown",
      "metadata": {
        "id": "GnwObJWCl8c_"
      },
      "source": [
        "# **Joining customer and care tweets based on tweet_id and in_response_to_tweet_id column**"
      ]
    },
    {
      "cell_type": "code",
      "execution_count": 22,
      "metadata": {
        "id": "cCV71ILIBwgn"
      },
      "outputs": [],
      "source": [
        "tweetfinal = custtweet3.join(caretweet3, custtweet3.tweet_id == caretweet3.in_response_to_tweet_id, \"inner\")"
      ]
    },
    {
      "cell_type": "code",
      "execution_count": 23,
      "metadata": {
        "colab": {
          "base_uri": "https://localhost:8080/"
        },
        "id": "kbOf6X47ixuN",
        "outputId": "5d6b8b47-372c-49f8-903d-143e12f14f28"
      },
      "outputs": [
        {
          "output_type": "stream",
          "name": "stdout",
          "text": [
            "+--------+--------------------+--------------------+-----------------------+--------------+--------------------+\n",
            "|tweet_id|          created_at|                text|in_response_to_tweet_id|  company_name|       response_time|\n",
            "+--------+--------------------+--------------------+-----------------------+--------------+--------------------+\n",
            "|       3|Tue Oct 31 22:08:...|@sprintcare I hav...|                      3|    sprintcare|Tue Oct 31 22:10:...|\n",
            "|      12|Tue Oct 31 22:04:...|@sprintcare You g...|                     12|    sprintcare|Wed Nov 01 20:48:...|\n",
            "|      12|Tue Oct 31 22:04:...|@sprintcare You g...|                     12|    sprintcare|Wed Nov 01 20:47:...|\n",
            "|      12|Tue Oct 31 22:04:...|@sprintcare You g...|                     12|    sprintcare|Tue Oct 31 22:10:...|\n",
            "|      16|Tue Oct 31 20:00:...|@sprintcare Since...|                     16|    sprintcare|Tue Oct 31 20:03:...|\n",
            "|      20|Tue Oct 31 22:03:...|@115714 whenever ...|                     20|    sprintcare|Tue Oct 31 22:10:...|\n",
            "|      22|Tue Oct 31 22:16:...|@Ask_Spectrum Wou...|                     22|  Ask_Spectrum|Tue Oct 31 22:18:...|\n",
            "|      26|Tue Oct 31 22:19:...|@Ask_Spectrum I r...|                     26|  Ask_Spectrum|Tue Oct 31 22:21:...|\n",
            "|      31|Tue Oct 31 22:06:...|Yo @Ask_Spectrum,...|                     31|  Ask_Spectrum|Tue Oct 31 22:12:...|\n",
            "|      76|Tue Oct 31 20:21:...|When you're the o...|                     76|ChipotleTweets|Tue Oct 31 20:37:...|\n",
            "|      78|Tue Oct 31 22:01:...|@ChipotleTweets n...|                     78|ChipotleTweets|Tue Oct 31 22:11:...|\n",
            "|      86|Wed Nov 01 14:31:...|@ChipotleTweets I...|                     86|ChipotleTweets|Wed Nov 01 15:25:...|\n",
            "|      93|Tue Oct 31 15:26:...|@ChipotleTweets I...|                     93|ChipotleTweets|Tue Oct 31 15:48:...|\n",
            "|      96|Tue Oct 31 21:28:...|@ChipotleTweets E...|                     96|ChipotleTweets|Tue Oct 31 21:35:...|\n",
            "|     101|Mon Oct 30 15:29:...|@ChipotleTweets H...|                    101|ChipotleTweets|Mon Oct 30 15:44:...|\n",
            "|     108|Mon Oct 30 17:18:...|@ChipotleTweets W...|                    108|ChipotleTweets|Mon Oct 30 18:03:...|\n",
            "|     115|Mon Oct 30 21:33:...|@ChipotleTweets u...|                    115|ChipotleTweets|Mon Oct 30 21:35:...|\n",
            "|     126|Tue Oct 31 04:56:...|@ChipotleTweets A...|                    126|ChipotleTweets|Tue Oct 31 04:57:...|\n",
            "|     128|Tue Oct 31 06:55:...|@ChipotleTweets Y...|                    128|ChipotleTweets|Tue Oct 31 14:11:...|\n",
            "|     133|Tue Oct 31 14:45:...|@ChipotleTweets G...|                    133|ChipotleTweets|Tue Oct 31 15:13:...|\n",
            "+--------+--------------------+--------------------+-----------------------+--------------+--------------------+\n",
            "only showing top 20 rows\n",
            "\n"
          ]
        }
      ],
      "source": [
        "tweetfinal.show()"
      ]
    },
    {
      "cell_type": "markdown",
      "metadata": {
        "id": "taeCti_PmS-E"
      },
      "source": [
        "# **Changing the date time from twitter format to timestamp**"
      ]
    },
    {
      "cell_type": "code",
      "execution_count": 24,
      "metadata": {
        "id": "_LdI36wptov9"
      },
      "outputs": [],
      "source": [
        "from datetime import datetime\n",
        "import pytz\n",
        "from pyspark.sql.functions import udf, to_date, to_utc_timestamp\n",
        "\n",
        "## Converting date string format\n",
        "def getDate(x):\n",
        "    if x is not None:\n",
        "        return str(datetime.strptime(x,'%a %b %d %H:%M:%S +0000 %Y').replace(tzinfo=pytz.UTC).strftime(\"%Y-%m-%d %H:%M:%S\"))\n",
        "    else:\n",
        "        return None\n",
        "\n",
        "## UDF declaration\n",
        "date_fn = udf(getDate, StringType())\n",
        "\n",
        "## Converting datatype in spark dataframe\n",
        "tweetfinal1 = tweetfinal.withColumn(\"created_at\", to_utc_timestamp(date_fn(\"created_at\"),\"UTC\"))"
      ]
    },
    {
      "cell_type": "code",
      "execution_count": 25,
      "metadata": {
        "id": "uyo0Ap6BuIV8"
      },
      "outputs": [],
      "source": [
        "tweetfinal1 = tweetfinal1.withColumn(\"response_time\", to_utc_timestamp(date_fn(\"response_time\"),\"UTC\"))"
      ]
    },
    {
      "cell_type": "code",
      "execution_count": 26,
      "metadata": {
        "colab": {
          "base_uri": "https://localhost:8080/"
        },
        "id": "Ed6vRVyyn60y",
        "outputId": "9c095e71-4881-42c9-90a6-6bc83a3dfa0e"
      },
      "outputs": [
        {
          "output_type": "stream",
          "name": "stdout",
          "text": [
            "+--------+-------------------+--------------------+-----------------------+--------------+-------------------+\n",
            "|tweet_id|         created_at|                text|in_response_to_tweet_id|  company_name|      response_time|\n",
            "+--------+-------------------+--------------------+-----------------------+--------------+-------------------+\n",
            "|       3|2017-10-31 22:08:27|@sprintcare I hav...|                      3|    sprintcare|2017-10-31 22:10:47|\n",
            "|      12|2017-10-31 22:04:47|@sprintcare You g...|                     12|    sprintcare|2017-11-01 20:48:14|\n",
            "|      12|2017-10-31 22:04:47|@sprintcare You g...|                     12|    sprintcare|2017-11-01 20:47:40|\n",
            "|      12|2017-10-31 22:04:47|@sprintcare You g...|                     12|    sprintcare|2017-10-31 22:10:35|\n",
            "|      16|2017-10-31 20:00:43|@sprintcare Since...|                     16|    sprintcare|2017-10-31 20:03:31|\n",
            "|      20|2017-10-31 22:03:34|@115714 whenever ...|                     20|    sprintcare|2017-10-31 22:10:10|\n",
            "|      22|2017-10-31 22:16:48|@Ask_Spectrum Wou...|                     22|  Ask_Spectrum|2017-10-31 22:18:28|\n",
            "|      26|2017-10-31 22:19:56|@Ask_Spectrum I r...|                     26|  Ask_Spectrum|2017-10-31 22:21:26|\n",
            "|      31|2017-10-31 22:06:54|Yo @Ask_Spectrum,...|                     31|  Ask_Spectrum|2017-10-31 22:12:09|\n",
            "|      76|2017-10-31 20:21:10|When you're the o...|                     76|ChipotleTweets|2017-10-31 20:37:31|\n",
            "|      78|2017-10-31 22:01:40|@ChipotleTweets n...|                     78|ChipotleTweets|2017-10-31 22:11:38|\n",
            "|      86|2017-11-01 14:31:12|@ChipotleTweets I...|                     86|ChipotleTweets|2017-11-01 15:25:57|\n",
            "|      93|2017-10-31 15:26:20|@ChipotleTweets I...|                     93|ChipotleTweets|2017-10-31 15:48:01|\n",
            "|      96|2017-10-31 21:28:37|@ChipotleTweets E...|                     96|ChipotleTweets|2017-10-31 21:35:33|\n",
            "|     101|2017-10-30 15:29:18|@ChipotleTweets H...|                    101|ChipotleTweets|2017-10-30 15:44:33|\n",
            "|     108|2017-10-30 17:18:50|@ChipotleTweets W...|                    108|ChipotleTweets|2017-10-30 18:03:31|\n",
            "|     115|2017-10-30 21:33:37|@ChipotleTweets u...|                    115|ChipotleTweets|2017-10-30 21:35:00|\n",
            "|     126|2017-10-31 04:56:02|@ChipotleTweets A...|                    126|ChipotleTweets|2017-10-31 04:57:00|\n",
            "|     128|2017-10-31 06:55:13|@ChipotleTweets Y...|                    128|ChipotleTweets|2017-10-31 14:11:00|\n",
            "|     133|2017-10-31 14:45:07|@ChipotleTweets G...|                    133|ChipotleTweets|2017-10-31 15:13:00|\n",
            "+--------+-------------------+--------------------+-----------------------+--------------+-------------------+\n",
            "only showing top 20 rows\n",
            "\n"
          ]
        }
      ],
      "source": [
        "tweetfinal1.show()"
      ]
    },
    {
      "cell_type": "markdown",
      "metadata": {
        "id": "CSefkgW3mjkT"
      },
      "source": [
        "# **Getting response duration by substracting response time and time of creation of customer tweet**"
      ]
    },
    {
      "cell_type": "code",
      "execution_count": 27,
      "metadata": {
        "id": "giz79abhuZve"
      },
      "outputs": [],
      "source": [
        "import pyspark.sql.functions as F\n",
        "tweetfinal2 = tweetfinal1.withColumn(\"response_dur\", (F.col(\"response_time\").cast(\"long\") - F.col(\"created_at\").cast(\"long\"))/60.)"
      ]
    },
    {
      "cell_type": "code",
      "execution_count": 28,
      "metadata": {
        "colab": {
          "base_uri": "https://localhost:8080/"
        },
        "id": "KNwNUkgauvZR",
        "outputId": "4c6fc42c-61ec-4fe4-e318-7ca7b1f5b06e"
      },
      "outputs": [
        {
          "output_type": "stream",
          "name": "stdout",
          "text": [
            "+--------+-------------------+--------------------+-----------------------+--------------+-------------------+------------------+\n",
            "|tweet_id|         created_at|                text|in_response_to_tweet_id|  company_name|      response_time|      response_dur|\n",
            "+--------+-------------------+--------------------+-----------------------+--------------+-------------------+------------------+\n",
            "|       3|2017-10-31 22:08:27|@sprintcare I hav...|                      3|    sprintcare|2017-10-31 22:10:47|2.3333333333333335|\n",
            "|      12|2017-10-31 22:04:47|@sprintcare You g...|                     12|    sprintcare|2017-11-01 20:48:14|           1363.45|\n",
            "|      12|2017-10-31 22:04:47|@sprintcare You g...|                     12|    sprintcare|2017-11-01 20:47:40|1362.8833333333334|\n",
            "|      12|2017-10-31 22:04:47|@sprintcare You g...|                     12|    sprintcare|2017-10-31 22:10:35|               5.8|\n",
            "|      16|2017-10-31 20:00:43|@sprintcare Since...|                     16|    sprintcare|2017-10-31 20:03:31|               2.8|\n",
            "|      20|2017-10-31 22:03:34|@115714 whenever ...|                     20|    sprintcare|2017-10-31 22:10:10|               6.6|\n",
            "|      22|2017-10-31 22:16:48|@Ask_Spectrum Wou...|                     22|  Ask_Spectrum|2017-10-31 22:18:28|1.6666666666666667|\n",
            "|      26|2017-10-31 22:19:56|@Ask_Spectrum I r...|                     26|  Ask_Spectrum|2017-10-31 22:21:26|               1.5|\n",
            "|      31|2017-10-31 22:06:54|Yo @Ask_Spectrum,...|                     31|  Ask_Spectrum|2017-10-31 22:12:09|              5.25|\n",
            "|      76|2017-10-31 20:21:10|When you're the o...|                     76|ChipotleTweets|2017-10-31 20:37:31|             16.35|\n",
            "|      78|2017-10-31 22:01:40|@ChipotleTweets n...|                     78|ChipotleTweets|2017-10-31 22:11:38| 9.966666666666667|\n",
            "|      86|2017-11-01 14:31:12|@ChipotleTweets I...|                     86|ChipotleTweets|2017-11-01 15:25:57|             54.75|\n",
            "|      93|2017-10-31 15:26:20|@ChipotleTweets I...|                     93|ChipotleTweets|2017-10-31 15:48:01|21.683333333333334|\n",
            "|      96|2017-10-31 21:28:37|@ChipotleTweets E...|                     96|ChipotleTweets|2017-10-31 21:35:33| 6.933333333333334|\n",
            "|     101|2017-10-30 15:29:18|@ChipotleTweets H...|                    101|ChipotleTweets|2017-10-30 15:44:33|             15.25|\n",
            "|     108|2017-10-30 17:18:50|@ChipotleTweets W...|                    108|ChipotleTweets|2017-10-30 18:03:31| 44.68333333333333|\n",
            "|     115|2017-10-30 21:33:37|@ChipotleTweets u...|                    115|ChipotleTweets|2017-10-30 21:35:00|1.3833333333333333|\n",
            "|     126|2017-10-31 04:56:02|@ChipotleTweets A...|                    126|ChipotleTweets|2017-10-31 04:57:00|0.9666666666666667|\n",
            "|     128|2017-10-31 06:55:13|@ChipotleTweets Y...|                    128|ChipotleTweets|2017-10-31 14:11:00|435.78333333333336|\n",
            "|     133|2017-10-31 14:45:07|@ChipotleTweets G...|                    133|ChipotleTweets|2017-10-31 15:13:00|27.883333333333333|\n",
            "+--------+-------------------+--------------------+-----------------------+--------------+-------------------+------------------+\n",
            "only showing top 20 rows\n",
            "\n"
          ]
        }
      ],
      "source": [
        "tweetfinal2.show()"
      ]
    },
    {
      "cell_type": "markdown",
      "metadata": {
        "id": "Z4VZVCpum4dT"
      },
      "source": [
        "# **Installing Afinn library**"
      ]
    },
    {
      "cell_type": "code",
      "execution_count": 29,
      "metadata": {
        "colab": {
          "base_uri": "https://localhost:8080/"
        },
        "id": "vCv3wzshv0VD",
        "outputId": "af37a555-76b1-4c19-b441-a779cb333c0f"
      },
      "outputs": [
        {
          "output_type": "stream",
          "name": "stdout",
          "text": [
            "Collecting afinn\n",
            "  Downloading afinn-0.1.tar.gz (52 kB)\n",
            "\u001b[?25l\r\u001b[K     |██████▎                         | 10 kB 20.0 MB/s eta 0:00:01\r\u001b[K     |████████████▌                   | 20 kB 10.1 MB/s eta 0:00:01\r\u001b[K     |██████████████████▊             | 30 kB 8.4 MB/s eta 0:00:01\r\u001b[K     |█████████████████████████       | 40 kB 7.6 MB/s eta 0:00:01\r\u001b[K     |███████████████████████████████▏| 51 kB 5.0 MB/s eta 0:00:01\r\u001b[K     |████████████████████████████████| 52 kB 857 kB/s \n",
            "\u001b[?25hBuilding wheels for collected packages: afinn\n",
            "  Building wheel for afinn (setup.py) ... \u001b[?25l\u001b[?25hdone\n",
            "  Created wheel for afinn: filename=afinn-0.1-py3-none-any.whl size=53447 sha256=b9344a8376bf8caf6944663e357050b295a31987215c1d6764ae2b79137d6d84\n",
            "  Stored in directory: /root/.cache/pip/wheels/9d/16/3a/9f0953027434eab5dadf3f33ab3298fa95afa8292fcf7aba75\n",
            "Successfully built afinn\n",
            "Installing collected packages: afinn\n",
            "Successfully installed afinn-0.1\n"
          ]
        }
      ],
      "source": [
        "!pip install afinn"
      ]
    },
    {
      "cell_type": "code",
      "execution_count": 30,
      "metadata": {
        "id": "KOwK_blqv5at"
      },
      "outputs": [],
      "source": [
        "from afinn import Afinn"
      ]
    },
    {
      "cell_type": "code",
      "execution_count": 31,
      "metadata": {
        "id": "GvLkPi9-v9ae"
      },
      "outputs": [],
      "source": [
        "afinn = Afinn(language='en')"
      ]
    },
    {
      "cell_type": "markdown",
      "metadata": {
        "id": "4ssXvfOenA2G"
      },
      "source": [
        "# **Assigning afinn score (sentiment score) to each tweet in dataset**"
      ]
    },
    {
      "cell_type": "code",
      "execution_count": 32,
      "metadata": {
        "id": "2kj1BqHqVjLr"
      },
      "outputs": [],
      "source": [
        "tweetfinal3 = tweetfinal2.rdd.map(lambda x : (x[0],x[1],x[2],afinn.score(x[2]),x[3],x[4],x[5],x[6]))\\\n",
        ".toDF()\\\n",
        ".withColumnRenamed(\"_1\",\"tweet_id\")\\\n",
        ".withColumnRenamed(\"_2\",\"created_at\")\\\n",
        ".withColumnRenamed(\"_3\",\"text\")\\\n",
        ".withColumnRenamed(\"_4\",\"sent_score\")\\\n",
        ".withColumnRenamed(\"_5\",\"in_response_to_tweet_id\")\\\n",
        ".withColumnRenamed(\"_6\",\"company_name\")\\\n",
        ".withColumnRenamed(\"_7\",\"response_time\")\\\n",
        ".withColumnRenamed(\"_8\",\"response_dur\")"
      ]
    },
    {
      "cell_type": "code",
      "execution_count": 33,
      "metadata": {
        "colab": {
          "base_uri": "https://localhost:8080/"
        },
        "id": "lGo3HYRTVjJX",
        "outputId": "5f726ff0-074e-43bf-c783-ff481603082e"
      },
      "outputs": [
        {
          "output_type": "stream",
          "name": "stdout",
          "text": [
            "+--------+-------------------+--------------------+----------+-----------------------+--------------+-------------------+------------------+\n",
            "|tweet_id|         created_at|                text|sent_score|in_response_to_tweet_id|  company_name|      response_time|      response_dur|\n",
            "+--------+-------------------+--------------------+----------+-----------------------+--------------+-------------------+------------------+\n",
            "|       3|2017-10-31 22:08:27|@sprintcare I hav...|      -1.0|                      3|    sprintcare|2017-10-31 22:10:47|2.3333333333333335|\n",
            "|      12|2017-10-31 22:04:47|@sprintcare You g...|       0.0|                     12|    sprintcare|2017-11-01 20:48:14|           1363.45|\n",
            "|      12|2017-10-31 22:04:47|@sprintcare You g...|       0.0|                     12|    sprintcare|2017-11-01 20:47:40|1362.8833333333334|\n",
            "|      12|2017-10-31 22:04:47|@sprintcare You g...|       0.0|                     12|    sprintcare|2017-10-31 22:10:35|               5.8|\n",
            "|      16|2017-10-31 20:00:43|@sprintcare Since...|       0.0|                     16|    sprintcare|2017-10-31 20:03:31|               2.8|\n",
            "|      20|2017-10-31 22:03:34|@115714 whenever ...|       2.0|                     20|    sprintcare|2017-10-31 22:10:10|               6.6|\n",
            "|      22|2017-10-31 22:16:48|@Ask_Spectrum Wou...|       2.0|                     22|  Ask_Spectrum|2017-10-31 22:18:28|1.6666666666666667|\n",
            "|      26|2017-10-31 22:19:56|@Ask_Spectrum I r...|       2.0|                     26|  Ask_Spectrum|2017-10-31 22:21:26|               1.5|\n",
            "|      31|2017-10-31 22:06:54|Yo @Ask_Spectrum,...|       6.0|                     31|  Ask_Spectrum|2017-10-31 22:12:09|              5.25|\n",
            "|      76|2017-10-31 20:21:10|When you're the o...|       0.0|                     76|ChipotleTweets|2017-10-31 20:37:31|             16.35|\n",
            "|      78|2017-10-31 22:01:40|@ChipotleTweets n...|      -1.0|                     78|ChipotleTweets|2017-10-31 22:11:38| 9.966666666666667|\n",
            "|      86|2017-11-01 14:31:12|@ChipotleTweets I...|       1.0|                     86|ChipotleTweets|2017-11-01 15:25:57|             54.75|\n",
            "|      93|2017-10-31 15:26:20|@ChipotleTweets I...|       0.0|                     93|ChipotleTweets|2017-10-31 15:48:01|21.683333333333334|\n",
            "|      96|2017-10-31 21:28:37|@ChipotleTweets E...|      -1.0|                     96|ChipotleTweets|2017-10-31 21:35:33| 6.933333333333334|\n",
            "|     101|2017-10-30 15:29:18|@ChipotleTweets H...|       0.0|                    101|ChipotleTweets|2017-10-30 15:44:33|             15.25|\n",
            "|     108|2017-10-30 17:18:50|@ChipotleTweets W...|       0.0|                    108|ChipotleTweets|2017-10-30 18:03:31| 44.68333333333333|\n",
            "|     115|2017-10-30 21:33:37|@ChipotleTweets u...|       0.0|                    115|ChipotleTweets|2017-10-30 21:35:00|1.3833333333333333|\n",
            "|     126|2017-10-31 04:56:02|@ChipotleTweets A...|       0.0|                    126|ChipotleTweets|2017-10-31 04:57:00|0.9666666666666667|\n",
            "|     128|2017-10-31 06:55:13|@ChipotleTweets Y...|       0.0|                    128|ChipotleTweets|2017-10-31 14:11:00|435.78333333333336|\n",
            "|     133|2017-10-31 14:45:07|@ChipotleTweets G...|       0.0|                    133|ChipotleTweets|2017-10-31 15:13:00|27.883333333333333|\n",
            "+--------+-------------------+--------------------+----------+-----------------------+--------------+-------------------+------------------+\n",
            "only showing top 20 rows\n",
            "\n"
          ]
        }
      ],
      "source": [
        "tweetfinal3.show()"
      ]
    },
    {
      "cell_type": "markdown",
      "metadata": {
        "id": "ja8rilS-nR7p"
      },
      "source": [
        "# **Installing vader sentiment library**"
      ]
    },
    {
      "cell_type": "code",
      "execution_count": 34,
      "metadata": {
        "colab": {
          "base_uri": "https://localhost:8080/"
        },
        "id": "TUhPoZY9hema",
        "outputId": "b35a4286-b020-4f11-e5c3-f442316c3dd5"
      },
      "outputs": [
        {
          "output_type": "stream",
          "name": "stdout",
          "text": [
            "Collecting vaderSentiment\n",
            "  Downloading vaderSentiment-3.3.2-py2.py3-none-any.whl (125 kB)\n",
            "\u001b[?25l\r\u001b[K     |██▋                             | 10 kB 19.9 MB/s eta 0:00:01\r\u001b[K     |█████▏                          | 20 kB 10.5 MB/s eta 0:00:01\r\u001b[K     |███████▉                        | 30 kB 6.3 MB/s eta 0:00:01\r\u001b[K     |██████████▍                     | 40 kB 5.8 MB/s eta 0:00:01\r\u001b[K     |█████████████                   | 51 kB 4.3 MB/s eta 0:00:01\r\u001b[K     |███████████████▋                | 61 kB 5.1 MB/s eta 0:00:01\r\u001b[K     |██████████████████▏             | 71 kB 5.1 MB/s eta 0:00:01\r\u001b[K     |████████████████████▉           | 81 kB 3.5 MB/s eta 0:00:01\r\u001b[K     |███████████████████████▍        | 92 kB 3.8 MB/s eta 0:00:01\r\u001b[K     |██████████████████████████      | 102 kB 4.2 MB/s eta 0:00:01\r\u001b[K     |████████████████████████████▋   | 112 kB 4.2 MB/s eta 0:00:01\r\u001b[K     |███████████████████████████████▏| 122 kB 4.2 MB/s eta 0:00:01\r\u001b[K     |████████████████████████████████| 125 kB 4.2 MB/s \n",
            "\u001b[?25hRequirement already satisfied: requests in /usr/local/lib/python3.7/dist-packages (from vaderSentiment) (2.23.0)\n",
            "Requirement already satisfied: urllib3!=1.25.0,!=1.25.1,<1.26,>=1.21.1 in /usr/local/lib/python3.7/dist-packages (from requests->vaderSentiment) (1.24.3)\n",
            "Requirement already satisfied: chardet<4,>=3.0.2 in /usr/local/lib/python3.7/dist-packages (from requests->vaderSentiment) (3.0.4)\n",
            "Requirement already satisfied: certifi>=2017.4.17 in /usr/local/lib/python3.7/dist-packages (from requests->vaderSentiment) (2021.10.8)\n",
            "Requirement already satisfied: idna<3,>=2.5 in /usr/local/lib/python3.7/dist-packages (from requests->vaderSentiment) (2.10)\n",
            "Installing collected packages: vaderSentiment\n",
            "Successfully installed vaderSentiment-3.3.2\n"
          ]
        }
      ],
      "source": [
        "!pip install vaderSentiment"
      ]
    },
    {
      "cell_type": "code",
      "execution_count": 35,
      "metadata": {
        "id": "qAhwbpGvhfSV"
      },
      "outputs": [],
      "source": [
        "from vaderSentiment.vaderSentiment import SentimentIntensityAnalyzer"
      ]
    },
    {
      "cell_type": "code",
      "execution_count": 36,
      "metadata": {
        "id": "DMUiWh9ShiK8"
      },
      "outputs": [],
      "source": [
        "analyzer = SentimentIntensityAnalyzer()"
      ]
    },
    {
      "cell_type": "code",
      "execution_count": 37,
      "metadata": {
        "colab": {
          "base_uri": "https://localhost:8080/"
        },
        "id": "rNKmT8B9hkHc",
        "outputId": "5c41029b-8514-4987-d6eb-0b29aff20cc2"
      },
      "outputs": [
        {
          "output_type": "execute_result",
          "data": {
            "text/plain": [
              "{'compound': -0.7906, 'neg': 0.875, 'neu': 0.125, 'pos': 0.0}"
            ]
          },
          "metadata": {},
          "execution_count": 37
        }
      ],
      "source": [
        "analyzer.polarity_scores('Horrible bad day.')"
      ]
    },
    {
      "cell_type": "code",
      "execution_count": 38,
      "metadata": {
        "colab": {
          "base_uri": "https://localhost:8080/"
        },
        "id": "dp_dLFgikMZI",
        "outputId": "43e975b9-e7dc-4efc-e819-eafcc877c192"
      },
      "outputs": [
        {
          "output_type": "execute_result",
          "data": {
            "text/plain": [
              "[{'compound': -0.296, 'neg': 0.145, 'neu': 0.855, 'pos': 0.0},\n",
              " {'compound': 0.0, 'neg': 0.0, 'neu': 1.0, 'pos': 0.0},\n",
              " {'compound': 0.0, 'neg': 0.0, 'neu': 1.0, 'pos': 0.0},\n",
              " {'compound': 0.0, 'neg': 0.0, 'neu': 1.0, 'pos': 0.0},\n",
              " {'compound': 0.0, 'neg': 0.0, 'neu': 1.0, 'pos': 0.0}]"
            ]
          },
          "metadata": {},
          "execution_count": 38
        }
      ],
      "source": [
        "tweetfinal3.select(\"text\").rdd.map(lambda x : analyzer.polarity_scores(x)).take(5)"
      ]
    },
    {
      "cell_type": "markdown",
      "metadata": {
        "id": "IEBrCV85ngK8"
      },
      "source": [
        "# **Adding all the polarity scores to the dataset**"
      ]
    },
    {
      "cell_type": "code",
      "execution_count": 39,
      "metadata": {
        "id": "ZEMCAg31iZIQ"
      },
      "outputs": [],
      "source": [
        "tweetfinal4 = tweetfinal3.rdd.map(lambda x : (x[0],x[1],x[2],analyzer.polarity_scores(x[2]),x[3],x[4],x[5],x[6],x[7]))\\\n",
        ".map(lambda x: (x[0],x[1],x[2],x[3][\"neg\"],x[3][\"pos\"],x[3][\"neu\"],x[3][\"compound\"],x[4],x[5],x[6],x[7],x[8]))\\\n",
        ".toDF([\"tweet_id\",\"created_at\",\"text\",\"neg\",\"pos\",\"neu\",\"compound\",\"sent_score\",\"in_response_to_tweet_id\",\"company_name\",\"response_time\",\"response_dur\"])"
      ]
    },
    {
      "cell_type": "code",
      "execution_count": 40,
      "metadata": {
        "colab": {
          "base_uri": "https://localhost:8080/"
        },
        "id": "2NIOopQinNJC",
        "outputId": "c69a3420-5009-41ba-a800-b39dd75b29e5"
      },
      "outputs": [
        {
          "output_type": "stream",
          "name": "stdout",
          "text": [
            "+--------+-------------------+--------------------+-----+-----+-----+--------+----------+-----------------------+--------------+-------------------+------------------+\n",
            "|tweet_id|         created_at|                text|  neg|  pos|  neu|compound|sent_score|in_response_to_tweet_id|  company_name|      response_time|      response_dur|\n",
            "+--------+-------------------+--------------------+-----+-----+-----+--------+----------+-----------------------+--------------+-------------------+------------------+\n",
            "|       3|2017-10-31 22:08:27|@sprintcare I hav...|0.145|  0.0|0.855|  -0.296|      -1.0|                      3|    sprintcare|2017-10-31 22:10:47|2.3333333333333335|\n",
            "|      12|2017-10-31 22:04:47|@sprintcare You g...|0.167|  0.0|0.833| -0.5267|       0.0|                     12|    sprintcare|2017-11-01 20:48:14|           1363.45|\n",
            "|      12|2017-10-31 22:04:47|@sprintcare You g...|0.167|  0.0|0.833| -0.5267|       0.0|                     12|    sprintcare|2017-11-01 20:47:40|1362.8833333333334|\n",
            "|      12|2017-10-31 22:04:47|@sprintcare You g...|0.167|  0.0|0.833| -0.5267|       0.0|                     12|    sprintcare|2017-10-31 22:10:35|               5.8|\n",
            "|      16|2017-10-31 20:00:43|@sprintcare Since...|  0.0|  0.0|  1.0|     0.0|       0.0|                     16|    sprintcare|2017-10-31 20:03:31|               2.8|\n",
            "|      20|2017-10-31 22:03:34|@115714 whenever ...|  0.0|0.066|0.934|  0.2144|       2.0|                     20|    sprintcare|2017-10-31 22:10:10|               6.6|\n",
            "|      22|2017-10-31 22:16:48|@Ask_Spectrum Wou...|  0.0|0.122|0.878|  0.3612|       2.0|                     22|  Ask_Spectrum|2017-10-31 22:18:28|1.6666666666666667|\n",
            "|      26|2017-10-31 22:19:56|@Ask_Spectrum I r...|  0.0|0.172|0.828|  0.3612|       2.0|                     26|  Ask_Spectrum|2017-10-31 22:21:26|               1.5|\n",
            "|      31|2017-10-31 22:06:54|Yo @Ask_Spectrum,...|  0.0|0.126|0.874|  0.4102|       6.0|                     31|  Ask_Spectrum|2017-10-31 22:12:09|              5.25|\n",
            "|      76|2017-10-31 20:21:10|When you're the o...|  0.0|  0.0|  1.0|     0.0|       0.0|                     76|ChipotleTweets|2017-10-31 20:37:31|             16.35|\n",
            "|      78|2017-10-31 22:01:40|@ChipotleTweets n...|0.161|  0.0|0.839| -0.3595|      -1.0|                     78|ChipotleTweets|2017-10-31 22:11:38| 9.966666666666667|\n",
            "|      86|2017-11-01 14:31:12|@ChipotleTweets I...|0.161|  0.0|0.839| -0.6551|       1.0|                     86|ChipotleTweets|2017-11-01 15:25:57|             54.75|\n",
            "|      93|2017-10-31 15:26:20|@ChipotleTweets I...|  0.0|  0.0|  1.0|     0.0|       0.0|                     93|ChipotleTweets|2017-10-31 15:48:01|21.683333333333334|\n",
            "|      96|2017-10-31 21:28:37|@ChipotleTweets E...|0.339|  0.0|0.661| -0.8835|      -1.0|                     96|ChipotleTweets|2017-10-31 21:35:33| 6.933333333333334|\n",
            "|     101|2017-10-30 15:29:18|@ChipotleTweets H...|  0.0|  0.0|  1.0|     0.0|       0.0|                    101|ChipotleTweets|2017-10-30 15:44:33|             15.25|\n",
            "|     108|2017-10-30 17:18:50|@ChipotleTweets W...|  0.0|  0.0|  1.0|     0.0|       0.0|                    108|ChipotleTweets|2017-10-30 18:03:31| 44.68333333333333|\n",
            "|     115|2017-10-30 21:33:37|@ChipotleTweets u...|0.134|0.268|0.599|  0.7003|       0.0|                    115|ChipotleTweets|2017-10-30 21:35:00|1.3833333333333333|\n",
            "|     126|2017-10-31 04:56:02|@ChipotleTweets A...|  0.0|  0.0|  1.0|     0.0|       0.0|                    126|ChipotleTweets|2017-10-31 04:57:00|0.9666666666666667|\n",
            "|     128|2017-10-31 06:55:13|@ChipotleTweets Y...|  0.0|  0.0|  1.0|     0.0|       0.0|                    128|ChipotleTweets|2017-10-31 14:11:00|435.78333333333336|\n",
            "|     133|2017-10-31 14:45:07|@ChipotleTweets G...|  0.0|  0.0|  1.0|     0.0|       0.0|                    133|ChipotleTweets|2017-10-31 15:13:00|27.883333333333333|\n",
            "+--------+-------------------+--------------------+-----+-----+-----+--------+----------+-----------------------+--------------+-------------------+------------------+\n",
            "only showing top 20 rows\n",
            "\n"
          ]
        }
      ],
      "source": [
        "tweetfinal4.show()"
      ]
    },
    {
      "cell_type": "code",
      "execution_count": 41,
      "metadata": {
        "id": "DVo48VRNpmgz"
      },
      "outputs": [],
      "source": [
        "#tweetfinal4.describe(['response_dur']).show()"
      ]
    },
    {
      "cell_type": "markdown",
      "metadata": {
        "id": "8KsOB0gins2q"
      },
      "source": [
        "# **Dividing response_dur variable into two categories (<60 min and >= 60 min)**"
      ]
    },
    {
      "cell_type": "code",
      "execution_count": 42,
      "metadata": {
        "id": "Ef1cnLbXRUn2"
      },
      "outputs": [],
      "source": [
        "from pyspark.sql.functions import when\n",
        "from pyspark.sql.functions import lit\n",
        "tweetfinal5 = tweetfinal4.withColumn(\"response_target\", when((tweetfinal4.response_dur < 60), lit(0)).otherwise(lit(1)))"
      ]
    },
    {
      "cell_type": "code",
      "execution_count": 43,
      "metadata": {
        "colab": {
          "base_uri": "https://localhost:8080/"
        },
        "id": "6sWsVttaScOn",
        "outputId": "5cfd3bff-60ba-4647-9c6e-e44e358c27cf"
      },
      "outputs": [
        {
          "output_type": "stream",
          "name": "stdout",
          "text": [
            "+--------+-------------------+--------------------+-----+-----+-----+--------+----------+-----------------------+--------------+-------------------+------------------+---------------+\n",
            "|tweet_id|         created_at|                text|  neg|  pos|  neu|compound|sent_score|in_response_to_tweet_id|  company_name|      response_time|      response_dur|response_target|\n",
            "+--------+-------------------+--------------------+-----+-----+-----+--------+----------+-----------------------+--------------+-------------------+------------------+---------------+\n",
            "|       3|2017-10-31 22:08:27|@sprintcare I hav...|0.145|  0.0|0.855|  -0.296|      -1.0|                      3|    sprintcare|2017-10-31 22:10:47|2.3333333333333335|              0|\n",
            "|      12|2017-10-31 22:04:47|@sprintcare You g...|0.167|  0.0|0.833| -0.5267|       0.0|                     12|    sprintcare|2017-11-01 20:48:14|           1363.45|              1|\n",
            "|      12|2017-10-31 22:04:47|@sprintcare You g...|0.167|  0.0|0.833| -0.5267|       0.0|                     12|    sprintcare|2017-11-01 20:47:40|1362.8833333333334|              1|\n",
            "|      12|2017-10-31 22:04:47|@sprintcare You g...|0.167|  0.0|0.833| -0.5267|       0.0|                     12|    sprintcare|2017-10-31 22:10:35|               5.8|              0|\n",
            "|      16|2017-10-31 20:00:43|@sprintcare Since...|  0.0|  0.0|  1.0|     0.0|       0.0|                     16|    sprintcare|2017-10-31 20:03:31|               2.8|              0|\n",
            "|      20|2017-10-31 22:03:34|@115714 whenever ...|  0.0|0.066|0.934|  0.2144|       2.0|                     20|    sprintcare|2017-10-31 22:10:10|               6.6|              0|\n",
            "|      22|2017-10-31 22:16:48|@Ask_Spectrum Wou...|  0.0|0.122|0.878|  0.3612|       2.0|                     22|  Ask_Spectrum|2017-10-31 22:18:28|1.6666666666666667|              0|\n",
            "|      26|2017-10-31 22:19:56|@Ask_Spectrum I r...|  0.0|0.172|0.828|  0.3612|       2.0|                     26|  Ask_Spectrum|2017-10-31 22:21:26|               1.5|              0|\n",
            "|      31|2017-10-31 22:06:54|Yo @Ask_Spectrum,...|  0.0|0.126|0.874|  0.4102|       6.0|                     31|  Ask_Spectrum|2017-10-31 22:12:09|              5.25|              0|\n",
            "|      76|2017-10-31 20:21:10|When you're the o...|  0.0|  0.0|  1.0|     0.0|       0.0|                     76|ChipotleTweets|2017-10-31 20:37:31|             16.35|              0|\n",
            "|      78|2017-10-31 22:01:40|@ChipotleTweets n...|0.161|  0.0|0.839| -0.3595|      -1.0|                     78|ChipotleTweets|2017-10-31 22:11:38| 9.966666666666667|              0|\n",
            "|      86|2017-11-01 14:31:12|@ChipotleTweets I...|0.161|  0.0|0.839| -0.6551|       1.0|                     86|ChipotleTweets|2017-11-01 15:25:57|             54.75|              0|\n",
            "|      93|2017-10-31 15:26:20|@ChipotleTweets I...|  0.0|  0.0|  1.0|     0.0|       0.0|                     93|ChipotleTweets|2017-10-31 15:48:01|21.683333333333334|              0|\n",
            "|      96|2017-10-31 21:28:37|@ChipotleTweets E...|0.339|  0.0|0.661| -0.8835|      -1.0|                     96|ChipotleTweets|2017-10-31 21:35:33| 6.933333333333334|              0|\n",
            "|     101|2017-10-30 15:29:18|@ChipotleTweets H...|  0.0|  0.0|  1.0|     0.0|       0.0|                    101|ChipotleTweets|2017-10-30 15:44:33|             15.25|              0|\n",
            "|     108|2017-10-30 17:18:50|@ChipotleTweets W...|  0.0|  0.0|  1.0|     0.0|       0.0|                    108|ChipotleTweets|2017-10-30 18:03:31| 44.68333333333333|              0|\n",
            "|     115|2017-10-30 21:33:37|@ChipotleTweets u...|0.134|0.268|0.599|  0.7003|       0.0|                    115|ChipotleTweets|2017-10-30 21:35:00|1.3833333333333333|              0|\n",
            "|     126|2017-10-31 04:56:02|@ChipotleTweets A...|  0.0|  0.0|  1.0|     0.0|       0.0|                    126|ChipotleTweets|2017-10-31 04:57:00|0.9666666666666667|              0|\n",
            "|     128|2017-10-31 06:55:13|@ChipotleTweets Y...|  0.0|  0.0|  1.0|     0.0|       0.0|                    128|ChipotleTweets|2017-10-31 14:11:00|435.78333333333336|              1|\n",
            "|     133|2017-10-31 14:45:07|@ChipotleTweets G...|  0.0|  0.0|  1.0|     0.0|       0.0|                    133|ChipotleTweets|2017-10-31 15:13:00|27.883333333333333|              0|\n",
            "+--------+-------------------+--------------------+-----+-----+-----+--------+----------+-----------------------+--------------+-------------------+------------------+---------------+\n",
            "only showing top 20 rows\n",
            "\n"
          ]
        }
      ],
      "source": [
        "tweetfinal5.show()"
      ]
    },
    {
      "cell_type": "code",
      "execution_count": 44,
      "metadata": {
        "id": "QY6JAV3t4pSs"
      },
      "outputs": [],
      "source": [
        "tweetfinal5 = tweetfinal5.withColumnRenamed(\"response_target\",\"label\")"
      ]
    },
    {
      "cell_type": "code",
      "execution_count": 45,
      "metadata": {
        "id": "K0S1kE-fTB2O"
      },
      "outputs": [],
      "source": [
        "#res_tar.show()"
      ]
    },
    {
      "cell_type": "markdown",
      "metadata": {
        "id": "Pa4VLGXkUYmp"
      },
      "source": [
        "# Creation of Pandas dataframe selecting compound and response_dur"
      ]
    },
    {
      "cell_type": "code",
      "execution_count": 46,
      "metadata": {
        "id": "lzNhAvpSJhQa"
      },
      "outputs": [],
      "source": [
        "tweetcomp = tweetfinal5.select(\"compound\",\"response_dur\")"
      ]
    },
    {
      "cell_type": "code",
      "execution_count": 47,
      "metadata": {
        "id": "3JyyjuKjz6w6"
      },
      "outputs": [],
      "source": [
        "import pandas as pd\n",
        "tweetpandas = tweetcomp.toPandas()"
      ]
    },
    {
      "cell_type": "code",
      "execution_count": 48,
      "metadata": {
        "id": "1fnw3WSC4dOl"
      },
      "outputs": [],
      "source": [
        "compound = tweetpandas['compound']"
      ]
    },
    {
      "cell_type": "code",
      "execution_count": 49,
      "metadata": {
        "colab": {
          "base_uri": "https://localhost:8080/"
        },
        "id": "ZOhZCzhQ4hIR",
        "outputId": "64dc8eaa-4d97-4689-f251-78f8696d1e86"
      },
      "outputs": [
        {
          "output_type": "execute_result",
          "data": {
            "text/plain": [
              "0         -0.2960\n",
              "1         -0.5267\n",
              "2         -0.5267\n",
              "3         -0.5267\n",
              "4          0.0000\n",
              "            ...  \n",
              "1220331    0.6705\n",
              "1220332    0.0000\n",
              "1220333    0.4199\n",
              "1220334   -0.9255\n",
              "1220335    0.7500\n",
              "Name: compound, Length: 1220336, dtype: float64"
            ]
          },
          "metadata": {},
          "execution_count": 49
        }
      ],
      "source": [
        "compound"
      ]
    },
    {
      "cell_type": "code",
      "execution_count": 50,
      "metadata": {
        "colab": {
          "base_uri": "https://localhost:8080/",
          "height": 352
        },
        "id": "X1A8H1w63ylm",
        "outputId": "ee26cee7-21ab-4b61-cf36-636dd390a8d4"
      },
      "outputs": [
        {
          "output_type": "stream",
          "name": "stderr",
          "text": [
            "/usr/local/lib/python3.7/dist-packages/seaborn/distributions.py:2619: FutureWarning: `distplot` is a deprecated function and will be removed in a future version. Please adapt your code to use either `displot` (a figure-level function with similar flexibility) or `kdeplot` (an axes-level function for kernel density plots).\n",
            "  warnings.warn(msg, FutureWarning)\n"
          ]
        },
        {
          "output_type": "execute_result",
          "data": {
            "text/plain": [
              "<matplotlib.axes._subplots.AxesSubplot at 0x7fc9f4f892d0>"
            ]
          },
          "metadata": {},
          "execution_count": 50
        },
        {
          "output_type": "display_data",
          "data": {
            "text/plain": [
              "<Figure size 432x288 with 1 Axes>"
            ],
            "image/png": "[encoded data removed]"
          },
          "metadata": {
            "needs_background": "light"
          }
        }
      ],
      "source": [
        "import seaborn as sns\n",
        "sns.distplot(compound, hist=False, kde=True, bins=50, color = 'darkblue', hist_kws={'edgecolor':'black'},kde_kws={'linewidth': 4},label = 'compound sentiment score')"
      ]
    },
    {
      "cell_type": "code",
      "execution_count": 51,
      "metadata": {
        "colab": {
          "base_uri": "https://localhost:8080/",
          "height": 364
        },
        "id": "S_yoYmTBlTpi",
        "outputId": "bcb32160-a456-482e-fd2c-44f381454749"
      },
      "outputs": [
        {
          "output_type": "stream",
          "name": "stderr",
          "text": [
            "/usr/local/lib/python3.7/dist-packages/seaborn/distributions.py:2619: FutureWarning: `distplot` is a deprecated function and will be removed in a future version. Please adapt your code to use either `displot` (a figure-level function with similar flexibility) or `histplot` (an axes-level function for histograms).\n",
            "  warnings.warn(msg, FutureWarning)\n"
          ]
        },
        {
          "output_type": "execute_result",
          "data": {
            "text/plain": [
              "<matplotlib.axes._subplots.AxesSubplot at 0x7fc9f43cb750>"
            ]
          },
          "metadata": {},
          "execution_count": 51
        },
        {
          "output_type": "display_data",
          "data": {
            "text/plain": [
              "<Figure size 432x288 with 1 Axes>"
            ],
            "image/png": "[encoded data removed]"
          },
          "metadata": {
            "needs_background": "light"
          }
        }
      ],
      "source": [
        "import seaborn as sns\n",
        "sns.distplot(tweetpandas[\"response_dur\"], hist=True, kde=True, bins=50, color = 'darkblue', hist_kws={'edgecolor':'black'},kde_kws={'linewidth': 4},label = 'response time')"
      ]
    },
    {
      "cell_type": "code",
      "execution_count": 52,
      "metadata": {
        "colab": {
          "base_uri": "https://localhost:8080/"
        },
        "id": "IYfaiyr8luBE",
        "outputId": "04c95b7f-52ab-48fb-90f7-d9e61c6183f2"
      },
      "outputs": [
        {
          "output_type": "execute_result",
          "data": {
            "text/plain": [
              "count    1.220336e+06\n",
              "mean     2.881563e+02\n",
              "std      5.289142e+03\n",
              "min     -2.052879e+06\n",
              "25%      6.283333e+00\n",
              "50%      2.146667e+01\n",
              "75%      1.082333e+02\n",
              "max      2.609747e+06\n",
              "Name: response_dur, dtype: float64"
            ]
          },
          "metadata": {},
          "execution_count": 52
        }
      ],
      "source": [
        "tweetpandas['response_dur'].describe()"
      ]
    },
    {
      "cell_type": "code",
      "execution_count": 53,
      "metadata": {
        "id": "VQxInaPM44tr",
        "colab": {
          "base_uri": "https://localhost:8080/"
        },
        "outputId": "d9d04189-03f6-47e1-9df7-5f06c011c062"
      },
      "outputs": [
        {
          "output_type": "stream",
          "name": "stdout",
          "text": [
            "+-------+--------------------+\n",
            "|summary|            compound|\n",
            "+-------+--------------------+\n",
            "|  count|             1220336|\n",
            "|   mean|0.022374618301841922|\n",
            "| stddev|  0.4399329705796217|\n",
            "|    min|             -0.9992|\n",
            "|    max|              0.9998|\n",
            "+-------+--------------------+\n",
            "\n"
          ]
        }
      ],
      "source": [
        "tweetfinal5.describe(['compound']).show()"
      ]
    },
    {
      "cell_type": "code",
      "execution_count": 54,
      "metadata": {
        "id": "KjKsCLlYgxpg",
        "colab": {
          "base_uri": "https://localhost:8080/"
        },
        "outputId": "bd583522-3112-4950-c328-9b5783629ac7"
      },
      "outputs": [
        {
          "output_type": "stream",
          "name": "stdout",
          "text": [
            "+-------+------------------+\n",
            "|summary|      response_dur|\n",
            "+-------+------------------+\n",
            "|  count|           1220336|\n",
            "|   mean|288.15627909034794|\n",
            "| stddev| 5289.141652670688|\n",
            "|    min|       -2052878.85|\n",
            "|    max|2609746.8333333335|\n",
            "+-------+------------------+\n",
            "\n"
          ]
        }
      ],
      "source": [
        "tweetfinal5.describe(['response_dur']).show()"
      ]
    },
    {
      "cell_type": "code",
      "execution_count": 55,
      "metadata": {
        "id": "wFzQi13e87p-",
        "colab": {
          "base_uri": "https://localhost:8080/"
        },
        "outputId": "4dd3d723-e699-4536-eed0-0d0d37cbea0a"
      },
      "outputs": [
        {
          "output_type": "execute_result",
          "data": {
            "text/plain": [
              "count    1.220336e+06\n",
              "mean     2.237462e-02\n",
              "std      4.399330e-01\n",
              "min     -9.992000e-01\n",
              "25%     -2.960000e-01\n",
              "50%      0.000000e+00\n",
              "75%      3.612000e-01\n",
              "max      9.998000e-01\n",
              "Name: compound, dtype: float64"
            ]
          },
          "metadata": {},
          "execution_count": 55
        }
      ],
      "source": [
        "compound.describe()"
      ]
    },
    {
      "cell_type": "markdown",
      "metadata": {
        "id": "Gx-U7JDqUnQb"
      },
      "source": [
        "# **Checking for normal distribution**"
      ]
    },
    {
      "cell_type": "code",
      "execution_count": 56,
      "metadata": {
        "id": "-Woq3J168wlk",
        "colab": {
          "base_uri": "https://localhost:8080/"
        },
        "outputId": "0a3c85e5-5e87-4c91-a54c-5ada7d0f96b2"
      },
      "outputs": [
        {
          "output_type": "execute_result",
          "data": {
            "text/plain": [
              "NormaltestResult(statistic=46578.00313170772, pvalue=0.0)"
            ]
          },
          "metadata": {},
          "execution_count": 56
        }
      ],
      "source": [
        "from scipy import stats\n",
        "stats.normaltest(compound)"
      ]
    },
    {
      "cell_type": "code",
      "execution_count": 57,
      "metadata": {
        "id": "1mz07E7hk-fh",
        "colab": {
          "base_uri": "https://localhost:8080/"
        },
        "outputId": "4dfbdd35-726c-406a-bbfb-ebe1598ca4bf"
      },
      "outputs": [
        {
          "output_type": "execute_result",
          "data": {
            "text/plain": [
              "NormaltestResult(statistic=6317896.3538639825, pvalue=0.0)"
            ]
          },
          "metadata": {},
          "execution_count": 57
        }
      ],
      "source": [
        "from scipy import stats\n",
        "stats.normaltest(tweetpandas[\"response_dur\"])"
      ]
    },
    {
      "cell_type": "code",
      "execution_count": 58,
      "metadata": {
        "id": "BsgwKFI8aNOe"
      },
      "outputs": [],
      "source": [
        "#Data is not normally distributed"
      ]
    },
    {
      "cell_type": "markdown",
      "metadata": {
        "id": "VOVYoz62oGix"
      },
      "source": [
        "# **Vector assembler and pipeline building**"
      ]
    },
    {
      "cell_type": "code",
      "execution_count": 59,
      "metadata": {
        "id": "DPWt566VoU97"
      },
      "outputs": [],
      "source": [
        "from pyspark.ml.feature import VectorAssembler"
      ]
    },
    {
      "cell_type": "code",
      "execution_count": 60,
      "metadata": {
        "id": "6-zHT-egoU7w"
      },
      "outputs": [],
      "source": [
        "vec_assembler = VectorAssembler(inputCols = ['compound'], outputCol = \"features\")"
      ]
    },
    {
      "cell_type": "code",
      "execution_count": 61,
      "metadata": {
        "id": "8xpb208voU5p"
      },
      "outputs": [],
      "source": [
        "from pyspark.ml import Pipeline\n",
        "tweet_pipe = Pipeline(stages=[vec_assembler])"
      ]
    },
    {
      "cell_type": "markdown",
      "metadata": {
        "id": "K5XrutnypD80"
      },
      "source": [
        "# **Transforming the dataset to get features and labels**"
      ]
    },
    {
      "cell_type": "code",
      "execution_count": 62,
      "metadata": {
        "id": "q8ChOFAloUyR"
      },
      "outputs": [],
      "source": [
        "piped_tweet_data = tweet_pipe.fit(tweetfinal5).transform(tweetfinal5)"
      ]
    },
    {
      "cell_type": "code",
      "execution_count": 63,
      "metadata": {
        "id": "U2_bJ7m_oUu7",
        "colab": {
          "base_uri": "https://localhost:8080/"
        },
        "outputId": "015d0532-29a6-47ad-b273-826132b20ca4"
      },
      "outputs": [
        {
          "output_type": "stream",
          "name": "stdout",
          "text": [
            "+--------+-------------------+--------------------+-----+-----+-----+--------+----------+-----------------------+--------------+-------------------+------------------+-----+---------+\n",
            "|tweet_id|         created_at|                text|  neg|  pos|  neu|compound|sent_score|in_response_to_tweet_id|  company_name|      response_time|      response_dur|label| features|\n",
            "+--------+-------------------+--------------------+-----+-----+-----+--------+----------+-----------------------+--------------+-------------------+------------------+-----+---------+\n",
            "|       3|2017-10-31 22:08:27|@sprintcare I hav...|0.145|  0.0|0.855|  -0.296|      -1.0|                      3|    sprintcare|2017-10-31 22:10:47|2.3333333333333335|    0| [-0.296]|\n",
            "|      12|2017-10-31 22:04:47|@sprintcare You g...|0.167|  0.0|0.833| -0.5267|       0.0|                     12|    sprintcare|2017-11-01 20:48:14|           1363.45|    1|[-0.5267]|\n",
            "|      12|2017-10-31 22:04:47|@sprintcare You g...|0.167|  0.0|0.833| -0.5267|       0.0|                     12|    sprintcare|2017-11-01 20:47:40|1362.8833333333334|    1|[-0.5267]|\n",
            "|      12|2017-10-31 22:04:47|@sprintcare You g...|0.167|  0.0|0.833| -0.5267|       0.0|                     12|    sprintcare|2017-10-31 22:10:35|               5.8|    0|[-0.5267]|\n",
            "|      16|2017-10-31 20:00:43|@sprintcare Since...|  0.0|  0.0|  1.0|     0.0|       0.0|                     16|    sprintcare|2017-10-31 20:03:31|               2.8|    0|    [0.0]|\n",
            "|      20|2017-10-31 22:03:34|@115714 whenever ...|  0.0|0.066|0.934|  0.2144|       2.0|                     20|    sprintcare|2017-10-31 22:10:10|               6.6|    0| [0.2144]|\n",
            "|      22|2017-10-31 22:16:48|@Ask_Spectrum Wou...|  0.0|0.122|0.878|  0.3612|       2.0|                     22|  Ask_Spectrum|2017-10-31 22:18:28|1.6666666666666667|    0| [0.3612]|\n",
            "|      26|2017-10-31 22:19:56|@Ask_Spectrum I r...|  0.0|0.172|0.828|  0.3612|       2.0|                     26|  Ask_Spectrum|2017-10-31 22:21:26|               1.5|    0| [0.3612]|\n",
            "|      31|2017-10-31 22:06:54|Yo @Ask_Spectrum,...|  0.0|0.126|0.874|  0.4102|       6.0|                     31|  Ask_Spectrum|2017-10-31 22:12:09|              5.25|    0| [0.4102]|\n",
            "|      76|2017-10-31 20:21:10|When you're the o...|  0.0|  0.0|  1.0|     0.0|       0.0|                     76|ChipotleTweets|2017-10-31 20:37:31|             16.35|    0|    [0.0]|\n",
            "|      78|2017-10-31 22:01:40|@ChipotleTweets n...|0.161|  0.0|0.839| -0.3595|      -1.0|                     78|ChipotleTweets|2017-10-31 22:11:38| 9.966666666666667|    0|[-0.3595]|\n",
            "|      86|2017-11-01 14:31:12|@ChipotleTweets I...|0.161|  0.0|0.839| -0.6551|       1.0|                     86|ChipotleTweets|2017-11-01 15:25:57|             54.75|    0|[-0.6551]|\n",
            "|      93|2017-10-31 15:26:20|@ChipotleTweets I...|  0.0|  0.0|  1.0|     0.0|       0.0|                     93|ChipotleTweets|2017-10-31 15:48:01|21.683333333333334|    0|    [0.0]|\n",
            "|      96|2017-10-31 21:28:37|@ChipotleTweets E...|0.339|  0.0|0.661| -0.8835|      -1.0|                     96|ChipotleTweets|2017-10-31 21:35:33| 6.933333333333334|    0|[-0.8835]|\n",
            "|     101|2017-10-30 15:29:18|@ChipotleTweets H...|  0.0|  0.0|  1.0|     0.0|       0.0|                    101|ChipotleTweets|2017-10-30 15:44:33|             15.25|    0|    [0.0]|\n",
            "|     108|2017-10-30 17:18:50|@ChipotleTweets W...|  0.0|  0.0|  1.0|     0.0|       0.0|                    108|ChipotleTweets|2017-10-30 18:03:31| 44.68333333333333|    0|    [0.0]|\n",
            "|     115|2017-10-30 21:33:37|@ChipotleTweets u...|0.134|0.268|0.599|  0.7003|       0.0|                    115|ChipotleTweets|2017-10-30 21:35:00|1.3833333333333333|    0| [0.7003]|\n",
            "|     126|2017-10-31 04:56:02|@ChipotleTweets A...|  0.0|  0.0|  1.0|     0.0|       0.0|                    126|ChipotleTweets|2017-10-31 04:57:00|0.9666666666666667|    0|    [0.0]|\n",
            "|     128|2017-10-31 06:55:13|@ChipotleTweets Y...|  0.0|  0.0|  1.0|     0.0|       0.0|                    128|ChipotleTweets|2017-10-31 14:11:00|435.78333333333336|    1|    [0.0]|\n",
            "|     133|2017-10-31 14:45:07|@ChipotleTweets G...|  0.0|  0.0|  1.0|     0.0|       0.0|                    133|ChipotleTweets|2017-10-31 15:13:00|27.883333333333333|    0|    [0.0]|\n",
            "+--------+-------------------+--------------------+-----+-----+-----+--------+----------+-----------------------+--------------+-------------------+------------------+-----+---------+\n",
            "only showing top 20 rows\n",
            "\n"
          ]
        }
      ],
      "source": [
        "piped_tweet_data.show()"
      ]
    },
    {
      "cell_type": "markdown",
      "metadata": {
        "id": "BD_9LHKWpfOV"
      },
      "source": [
        "# **Splitting into Train and test**"
      ]
    },
    {
      "cell_type": "code",
      "execution_count": 64,
      "metadata": {
        "id": "sLRTzlcpoUsp"
      },
      "outputs": [],
      "source": [
        "training, test = piped_tweet_data.randomSplit([0.6,0.4],100)"
      ]
    },
    {
      "cell_type": "markdown",
      "metadata": {
        "id": "Slw0GliVqq4P"
      },
      "source": [
        "# **Setting evaluator as Area under AUC**"
      ]
    },
    {
      "cell_type": "code",
      "execution_count": 65,
      "metadata": {
        "id": "2wrHw5_dqp0i"
      },
      "outputs": [],
      "source": [
        "import pyspark.ml.evaluation as evals\n",
        "evaluator = evals.BinaryClassificationEvaluator(metricName = \"areaUnderROC\")"
      ]
    },
    {
      "cell_type": "markdown",
      "metadata": {
        "id": "ne12Qd8-qhEs"
      },
      "source": [
        "# **Logistic regression model**"
      ]
    },
    {
      "cell_type": "code",
      "execution_count": 66,
      "metadata": {
        "id": "8gu85XbUoUqt"
      },
      "outputs": [],
      "source": [
        "#from pyspark.ml.classification import LogisticRegression\n",
        "#lr = LogisticRegression(featuresCol = 'features', labelCol = 'label')\n",
        "#lrModel = lr.fit(training)\n",
        "#predictionslr = lrModel.transform(test)"
      ]
    },
    {
      "cell_type": "code",
      "execution_count": 67,
      "metadata": {
        "id": "l_--6GZcoUoy"
      },
      "outputs": [],
      "source": [
        "#print(evaluator.evaluate(predictionslr))"
      ]
    },
    {
      "cell_type": "code",
      "execution_count": 68,
      "metadata": {
        "id": "DXA9ErtBoUmt"
      },
      "outputs": [],
      "source": [
        "#predictionslr.groupBy(\"prediction\").count().show()"
      ]
    },
    {
      "cell_type": "code",
      "execution_count": 69,
      "metadata": {
        "id": "iki5QB3SoUkk"
      },
      "outputs": [],
      "source": [
        "#It is predicting everything as zeros"
      ]
    },
    {
      "cell_type": "markdown",
      "metadata": {
        "id": "Bzem5o31sa56"
      },
      "source": [
        "# **Random forest model**"
      ]
    },
    {
      "cell_type": "code",
      "execution_count": 70,
      "metadata": {
        "id": "NR0tpif8oUip"
      },
      "outputs": [],
      "source": [
        "#from pyspark.ml.classification import RandomForestClassifier\n",
        "#rf = RandomForestClassifier(featuresCol = 'features', labelCol = 'label')\n",
        "#rfModel = rf.fit(training)\n",
        "#predictionsrf = rfModel.transform(test)"
      ]
    },
    {
      "cell_type": "code",
      "execution_count": 71,
      "metadata": {
        "id": "4wZ-UDfToUg3"
      },
      "outputs": [],
      "source": [
        "#print(evaluator.evaluate(predictionsrf))"
      ]
    },
    {
      "cell_type": "code",
      "execution_count": 72,
      "metadata": {
        "id": "wfMzn19koUew"
      },
      "outputs": [],
      "source": [
        "#predictionsrf.groupBy(\"prediction\").count().show()"
      ]
    },
    {
      "cell_type": "code",
      "execution_count": 73,
      "metadata": {
        "id": "Qwu20MPeoUc1"
      },
      "outputs": [],
      "source": [
        "#It is predicting both zeros and ones with only very few values as ones"
      ]
    },
    {
      "cell_type": "markdown",
      "metadata": {
        "id": "aFSoN11utFk3"
      },
      "source": [
        "# **Gradient boosting model**"
      ]
    },
    {
      "cell_type": "code",
      "execution_count": 74,
      "metadata": {
        "id": "8uOtX2hboUaw"
      },
      "outputs": [],
      "source": [
        "from pyspark.ml.classification import GBTClassifier\n",
        "gbt = GBTClassifier(labelCol=\"label\", featuresCol=\"features\")\n",
        "gbtModel = gbt.fit(training)\n",
        "predictionsgbt = gbtModel.transform(test)"
      ]
    },
    {
      "cell_type": "code",
      "execution_count": 75,
      "metadata": {
        "id": "NxsNJC_Vtbo7",
        "colab": {
          "base_uri": "https://localhost:8080/"
        },
        "outputId": "efa5c69f-3e6b-43ed-f19f-cdab2b643bf2"
      },
      "outputs": [
        {
          "output_type": "stream",
          "name": "stdout",
          "text": [
            "0.5145340995632854\n"
          ]
        }
      ],
      "source": [
        "print(evaluator.evaluate(predictionsgbt))"
      ]
    },
    {
      "cell_type": "code",
      "execution_count": 76,
      "metadata": {
        "id": "zHZR0BfToUU0",
        "colab": {
          "base_uri": "https://localhost:8080/"
        },
        "outputId": "d5699213-6a7e-4805-98fb-43e0854c2a56"
      },
      "outputs": [
        {
          "output_type": "stream",
          "name": "stdout",
          "text": [
            "+----------+------+\n",
            "|prediction| count|\n",
            "+----------+------+\n",
            "|       0.0|488128|\n",
            "+----------+------+\n",
            "\n"
          ]
        }
      ],
      "source": [
        "predictionsgbt.groupBy(\"prediction\").count().show()"
      ]
    },
    {
      "cell_type": "code",
      "execution_count": 77,
      "metadata": {
        "id": "BzePrqycsseB"
      },
      "outputs": [],
      "source": [
        "#GBT gives highest AUC values"
      ]
    },
    {
      "cell_type": "markdown",
      "metadata": {
        "id": "J20uMpKLubD6"
      },
      "source": [
        "# **Support Vector Machine model**"
      ]
    },
    {
      "cell_type": "code",
      "execution_count": 78,
      "metadata": {
        "id": "hSLGK30vssbv"
      },
      "outputs": [],
      "source": [
        "#from pyspark.ml.classification import LinearSVC\n",
        "#lsvc = LinearSVC(labelCol=\"label\", featuresCol=\"features\")\n",
        "#lsvcModel = lsvc.fit(training)\n",
        "#predictionslsvc = lsvcModel.transform(test)"
      ]
    },
    {
      "cell_type": "code",
      "execution_count": 79,
      "metadata": {
        "id": "e8wbqlELurlW"
      },
      "outputs": [],
      "source": [
        "#print(evaluator.evaluate(predictionslsvc))"
      ]
    },
    {
      "cell_type": "code",
      "execution_count": 80,
      "metadata": {
        "id": "jvB5T_KOssZc"
      },
      "outputs": [],
      "source": [
        "#predictionslsvc.groupBy(\"prediction\").count().show()"
      ]
    },
    {
      "cell_type": "code",
      "execution_count": 81,
      "metadata": {
        "id": "L0MJ3T0nssVx"
      },
      "outputs": [],
      "source": [
        "#Gradient boosting works the best out of all the models"
      ]
    },
    {
      "cell_type": "markdown",
      "metadata": {
        "id": "AHB3eDafve_r"
      },
      "source": [
        "# **Getting the median value of response_dur from our dataset**"
      ]
    },
    {
      "cell_type": "code",
      "execution_count": 82,
      "metadata": {
        "id": "xaykfiPpvei-",
        "colab": {
          "base_uri": "https://localhost:8080/"
        },
        "outputId": "2c5db7ac-0fe1-4c70-89dc-3ca898ee2115"
      },
      "outputs": [
        {
          "output_type": "execute_result",
          "data": {
            "text/plain": [
              "[21.716666666666665]"
            ]
          },
          "metadata": {},
          "execution_count": 82
        }
      ],
      "source": [
        "tweetfinal5.approxQuantile(\"response_dur\", [0.5], 0.25)"
      ]
    },
    {
      "cell_type": "markdown",
      "metadata": {
        "id": "d8vrTyPNzT8Y"
      },
      "source": [
        "# **Dividing the response_dur in 2 classes based on median value**"
      ]
    },
    {
      "cell_type": "code",
      "execution_count": 83,
      "metadata": {
        "id": "LUROcGbrvdIE"
      },
      "outputs": [],
      "source": [
        "from pyspark.sql.functions import when\n",
        "from pyspark.sql.functions import lit\n",
        "tweetfinal7 = tweetfinal4.withColumn(\"response_target\", when((tweetfinal4.response_dur < 21.716), lit(0)).otherwise(lit(1)))"
      ]
    },
    {
      "cell_type": "code",
      "execution_count": 84,
      "metadata": {
        "id": "JPen86YV47aP"
      },
      "outputs": [],
      "source": [
        "tweetfinal7 = tweetfinal7.withColumnRenamed(\"response_target\",\"label\")"
      ]
    },
    {
      "cell_type": "code",
      "execution_count": 85,
      "metadata": {
        "id": "DGm_1-Sj35h8",
        "colab": {
          "base_uri": "https://localhost:8080/"
        },
        "outputId": "0ae689d2-9868-4a14-8add-791970ace6d6"
      },
      "outputs": [
        {
          "output_type": "stream",
          "name": "stdout",
          "text": [
            "+--------+-------------------+--------------------+-----+-----+-----+--------+----------+-----------------------+--------------+-------------------+------------------+-----+\n",
            "|tweet_id|         created_at|                text|  neg|  pos|  neu|compound|sent_score|in_response_to_tweet_id|  company_name|      response_time|      response_dur|label|\n",
            "+--------+-------------------+--------------------+-----+-----+-----+--------+----------+-----------------------+--------------+-------------------+------------------+-----+\n",
            "|       3|2017-10-31 22:08:27|@sprintcare I hav...|0.145|  0.0|0.855|  -0.296|      -1.0|                      3|    sprintcare|2017-10-31 22:10:47|2.3333333333333335|    0|\n",
            "|      12|2017-10-31 22:04:47|@sprintcare You g...|0.167|  0.0|0.833| -0.5267|       0.0|                     12|    sprintcare|2017-11-01 20:48:14|           1363.45|    1|\n",
            "|      12|2017-10-31 22:04:47|@sprintcare You g...|0.167|  0.0|0.833| -0.5267|       0.0|                     12|    sprintcare|2017-11-01 20:47:40|1362.8833333333334|    1|\n",
            "|      12|2017-10-31 22:04:47|@sprintcare You g...|0.167|  0.0|0.833| -0.5267|       0.0|                     12|    sprintcare|2017-10-31 22:10:35|               5.8|    0|\n",
            "|      16|2017-10-31 20:00:43|@sprintcare Since...|  0.0|  0.0|  1.0|     0.0|       0.0|                     16|    sprintcare|2017-10-31 20:03:31|               2.8|    0|\n",
            "|      20|2017-10-31 22:03:34|@115714 whenever ...|  0.0|0.066|0.934|  0.2144|       2.0|                     20|    sprintcare|2017-10-31 22:10:10|               6.6|    0|\n",
            "|      22|2017-10-31 22:16:48|@Ask_Spectrum Wou...|  0.0|0.122|0.878|  0.3612|       2.0|                     22|  Ask_Spectrum|2017-10-31 22:18:28|1.6666666666666667|    0|\n",
            "|      26|2017-10-31 22:19:56|@Ask_Spectrum I r...|  0.0|0.172|0.828|  0.3612|       2.0|                     26|  Ask_Spectrum|2017-10-31 22:21:26|               1.5|    0|\n",
            "|      31|2017-10-31 22:06:54|Yo @Ask_Spectrum,...|  0.0|0.126|0.874|  0.4102|       6.0|                     31|  Ask_Spectrum|2017-10-31 22:12:09|              5.25|    0|\n",
            "|      76|2017-10-31 20:21:10|When you're the o...|  0.0|  0.0|  1.0|     0.0|       0.0|                     76|ChipotleTweets|2017-10-31 20:37:31|             16.35|    0|\n",
            "|      78|2017-10-31 22:01:40|@ChipotleTweets n...|0.161|  0.0|0.839| -0.3595|      -1.0|                     78|ChipotleTweets|2017-10-31 22:11:38| 9.966666666666667|    0|\n",
            "|      86|2017-11-01 14:31:12|@ChipotleTweets I...|0.161|  0.0|0.839| -0.6551|       1.0|                     86|ChipotleTweets|2017-11-01 15:25:57|             54.75|    1|\n",
            "|      93|2017-10-31 15:26:20|@ChipotleTweets I...|  0.0|  0.0|  1.0|     0.0|       0.0|                     93|ChipotleTweets|2017-10-31 15:48:01|21.683333333333334|    0|\n",
            "|      96|2017-10-31 21:28:37|@ChipotleTweets E...|0.339|  0.0|0.661| -0.8835|      -1.0|                     96|ChipotleTweets|2017-10-31 21:35:33| 6.933333333333334|    0|\n",
            "|     101|2017-10-30 15:29:18|@ChipotleTweets H...|  0.0|  0.0|  1.0|     0.0|       0.0|                    101|ChipotleTweets|2017-10-30 15:44:33|             15.25|    0|\n",
            "|     108|2017-10-30 17:18:50|@ChipotleTweets W...|  0.0|  0.0|  1.0|     0.0|       0.0|                    108|ChipotleTweets|2017-10-30 18:03:31| 44.68333333333333|    1|\n",
            "|     115|2017-10-30 21:33:37|@ChipotleTweets u...|0.134|0.268|0.599|  0.7003|       0.0|                    115|ChipotleTweets|2017-10-30 21:35:00|1.3833333333333333|    0|\n",
            "|     126|2017-10-31 04:56:02|@ChipotleTweets A...|  0.0|  0.0|  1.0|     0.0|       0.0|                    126|ChipotleTweets|2017-10-31 04:57:00|0.9666666666666667|    0|\n",
            "|     128|2017-10-31 06:55:13|@ChipotleTweets Y...|  0.0|  0.0|  1.0|     0.0|       0.0|                    128|ChipotleTweets|2017-10-31 14:11:00|435.78333333333336|    1|\n",
            "|     133|2017-10-31 14:45:07|@ChipotleTweets G...|  0.0|  0.0|  1.0|     0.0|       0.0|                    133|ChipotleTweets|2017-10-31 15:13:00|27.883333333333333|    1|\n",
            "+--------+-------------------+--------------------+-----+-----+-----+--------+----------+-----------------------+--------------+-------------------+------------------+-----+\n",
            "only showing top 20 rows\n",
            "\n"
          ]
        }
      ],
      "source": [
        "tweetfinal7.show()"
      ]
    },
    {
      "cell_type": "markdown",
      "metadata": {
        "id": "_TYI2ae60h4Z"
      },
      "source": [
        "# **Transforming the dataset to get features and labels**"
      ]
    },
    {
      "cell_type": "code",
      "execution_count": 86,
      "metadata": {
        "id": "BqAyA1e40kvH"
      },
      "outputs": [],
      "source": [
        "piped_tweet_data2 = tweet_pipe.fit(tweetfinal7).transform(tweetfinal7)"
      ]
    },
    {
      "cell_type": "markdown",
      "metadata": {
        "id": "i_K0Y71u0aIJ"
      },
      "source": [
        "# **Splitting into Train and test**"
      ]
    },
    {
      "cell_type": "code",
      "execution_count": 87,
      "metadata": {
        "id": "x7jQs1rDvc-Q"
      },
      "outputs": [],
      "source": [
        "training2, test2 = piped_tweet_data2.randomSplit([0.6,0.4],100)"
      ]
    },
    {
      "cell_type": "markdown",
      "metadata": {
        "id": "nMHhMUAM0z_7"
      },
      "source": [
        "# **Logistic regression model**"
      ]
    },
    {
      "cell_type": "code",
      "execution_count": 88,
      "metadata": {
        "id": "WDJ2spKYvc8W"
      },
      "outputs": [],
      "source": [
        "#from pyspark.ml.classification import LogisticRegression\n",
        "#lr2 = LogisticRegression(featuresCol = 'features', labelCol = 'label')\n",
        "#lrModel2 = lr2.fit(training2)\n",
        "#predictionslr2 = lrModel2.transform(test2)"
      ]
    },
    {
      "cell_type": "code",
      "execution_count": 89,
      "metadata": {
        "id": "f74MWoUGvc6O"
      },
      "outputs": [],
      "source": [
        "#print(evaluator.evaluate(predictionslr2))"
      ]
    },
    {
      "cell_type": "code",
      "execution_count": 90,
      "metadata": {
        "id": "qJhnZOQBvc4Q"
      },
      "outputs": [],
      "source": [
        "#predictionslr2.groupBy(\"prediction\").count().show()"
      ]
    },
    {
      "cell_type": "markdown",
      "metadata": {
        "id": "Uly5dOdT108v"
      },
      "source": [
        "# **Random forest model**"
      ]
    },
    {
      "cell_type": "code",
      "execution_count": 91,
      "metadata": {
        "id": "KVI7PSbAvc2f"
      },
      "outputs": [],
      "source": [
        "#from pyspark.ml.classification import RandomForestClassifier\n",
        "#rf2 = RandomForestClassifier(featuresCol = 'features', labelCol = 'label')\n",
        "#rfModel2 = rf2.fit(training2)\n",
        "#predictionsrf2 = rfModel2.transform(test2)"
      ]
    },
    {
      "cell_type": "code",
      "execution_count": 92,
      "metadata": {
        "id": "gdC7q0LRvc0Y"
      },
      "outputs": [],
      "source": [
        "#print(evaluator.evaluate(predictionsrf2))"
      ]
    },
    {
      "cell_type": "code",
      "execution_count": 93,
      "metadata": {
        "id": "4eOCkGU8vcyc"
      },
      "outputs": [],
      "source": [
        "#predictionsrf2.groupBy(\"prediction\").count().show()"
      ]
    },
    {
      "cell_type": "markdown",
      "metadata": {
        "id": "pvWaNsHf2HSF"
      },
      "source": [
        "# **Gradient boosting model**"
      ]
    },
    {
      "cell_type": "code",
      "execution_count": 94,
      "metadata": {
        "id": "QoelCgj1vcwi"
      },
      "outputs": [],
      "source": [
        "from pyspark.ml.classification import GBTClassifier\n",
        "gbt2 = GBTClassifier(labelCol=\"label\", featuresCol=\"features\")\n",
        "gbtModel2 = gbt2.fit(training2)\n",
        "predictionsgbt2 = gbtModel2.transform(test2)"
      ]
    },
    {
      "cell_type": "code",
      "execution_count": 95,
      "metadata": {
        "id": "N_0rDJSfvcum",
        "colab": {
          "base_uri": "https://localhost:8080/"
        },
        "outputId": "4e2b4b3f-b280-4dd6-b112-741d167843ed"
      },
      "outputs": [
        {
          "output_type": "stream",
          "name": "stdout",
          "text": [
            "0.5147820071231614\n"
          ]
        }
      ],
      "source": [
        "print(evaluator.evaluate(predictionsgbt2))"
      ]
    },
    {
      "cell_type": "code",
      "execution_count": 96,
      "metadata": {
        "id": "W4DDzIqLvcse",
        "colab": {
          "base_uri": "https://localhost:8080/"
        },
        "outputId": "db868795-8534-41f6-c658-369a9a78f8c5"
      },
      "outputs": [
        {
          "output_type": "stream",
          "name": "stdout",
          "text": [
            "+----------+------+\n",
            "|prediction| count|\n",
            "+----------+------+\n",
            "|       0.0|294593|\n",
            "|       1.0|193535|\n",
            "+----------+------+\n",
            "\n"
          ]
        }
      ],
      "source": [
        "predictionsgbt2.groupBy(\"prediction\").count().show()"
      ]
    },
    {
      "cell_type": "markdown",
      "metadata": {
        "id": "MhxSMVdy2U0U"
      },
      "source": [
        "# **Support Vector Machine model**"
      ]
    },
    {
      "cell_type": "code",
      "execution_count": 97,
      "metadata": {
        "id": "GYW8SSDxvcqv"
      },
      "outputs": [],
      "source": [
        "#from pyspark.ml.classification import LinearSVC\n",
        "#lsvc2 = LinearSVC(labelCol=\"label\", featuresCol=\"features\")\n",
        "#lsvcModel2 = lsvc2.fit(training2)\n",
        "#predictionslsvc2 = lsvcModel2.transform(test2)"
      ]
    },
    {
      "cell_type": "code",
      "execution_count": 98,
      "metadata": {
        "id": "znI1FiVgvcoy"
      },
      "outputs": [],
      "source": [
        "#print(evaluator.evaluate(predictionslsvc2))"
      ]
    },
    {
      "cell_type": "code",
      "execution_count": 99,
      "metadata": {
        "id": "qf1jTqvHvcm2"
      },
      "outputs": [],
      "source": [
        "#predictionslsvc2.groupBy(\"prediction\").count().show()"
      ]
    },
    {
      "cell_type": "code",
      "execution_count": 100,
      "metadata": {
        "id": "Cc3wZMsMvckw"
      },
      "outputs": [],
      "source": [
        "# Here as well, the gradient boosting classifier is the best model with highest AUC value and also able to predict both the classes."
      ]
    },
    {
      "cell_type": "markdown",
      "metadata": {
        "id": "Xa3jEymE3wkQ"
      },
      "source": [
        "# **Calculating more evaluation metrics for the gbt model**"
      ]
    },
    {
      "cell_type": "code",
      "execution_count": 101,
      "metadata": {
        "id": "4MTw-wOD3sgy"
      },
      "outputs": [],
      "source": [
        "#import pyspark.ml.evaluation as evals\n",
        "#evaluator = evals.BinaryClassificationEvaluator(metricName = \"areaUnderROC\")\n",
        "#evaluator2 = evals.MulticlassClassificationEvaluator(metricName = \"accuracy\")\n",
        "#evaluator3 = evals.MulticlassClassificationEvaluator(metricName = \"f1\")\n",
        "#evaluator4 = evals.MulticlassClassificationEvaluator(metricName = \"weightedPrecision\")\n",
        "#evaluator5 = evals.MulticlassClassificationEvaluator(metricName = \"weightedRecall\")"
      ]
    },
    {
      "cell_type": "code",
      "execution_count": 102,
      "metadata": {
        "id": "6UsHUcqn3seb"
      },
      "outputs": [],
      "source": [
        "#accuracy\n",
        "#print(evaluator2.evaluate(predictionsgbt2)) "
      ]
    },
    {
      "cell_type": "code",
      "execution_count": 103,
      "metadata": {
        "id": "sM5hGYpY3scf"
      },
      "outputs": [],
      "source": [
        "#f1\n",
        "#print(evaluator3.evaluate(predictionsgbt2)) "
      ]
    },
    {
      "cell_type": "code",
      "execution_count": 104,
      "metadata": {
        "id": "hngQJt6H3sau"
      },
      "outputs": [],
      "source": [
        "#Weighted precision\n",
        "#print(evaluator4.evaluate(predictionsgbt2)) "
      ]
    },
    {
      "cell_type": "code",
      "execution_count": 105,
      "metadata": {
        "id": "dpNbZico3sY1"
      },
      "outputs": [],
      "source": [
        "#Weighted recall\n",
        "#print(evaluator5.evaluate(predictionsgbt2)) "
      ]
    },
    {
      "cell_type": "code",
      "execution_count": 106,
      "metadata": {
        "id": "5IQLfzKm9qKF",
        "colab": {
          "base_uri": "https://localhost:8080/"
        },
        "outputId": "01b1e7d4-eb85-4650-abb4-08cfe7b4ab7c"
      },
      "outputs": [
        {
          "output_type": "stream",
          "name": "stdout",
          "text": [
            "+--------+-------------------+-------------------------------+-----+-----+-----+--------+----------+-----------------------+--------------+-------------------+------------------+-----+---------+--------------------+--------------------+----------+\n",
            "|tweet_id|         created_at|                           text|  neg|  pos|  neu|compound|sent_score|in_response_to_tweet_id|  company_name|      response_time|      response_dur|label| features|       rawPrediction|         probability|prediction|\n",
            "+--------+-------------------+-------------------------------+-----+-----+-----+--------+----------+-----------------------+--------------+-------------------+------------------+-----+---------+--------------------+--------------------+----------+\n",
            "|      12|2017-10-31 22:04:47|           @sprintcare You g...|0.167|  0.0|0.833| -0.5267|       0.0|                     12|    sprintcare|2017-11-01 20:48:14|           1363.45|    1|[-0.5267]|[-0.0322348967326...|[0.48388813179980...|       1.0|\n",
            "|      78|2017-10-31 22:01:40|           @ChipotleTweets n...|0.161|  0.0|0.839| -0.3595|      -1.0|                     78|ChipotleTweets|2017-10-31 22:11:38| 9.966666666666667|    0|[-0.3595]|[-0.0497773651646...|[0.47513185334158...|       1.0|\n",
            "|      86|2017-11-01 14:31:12|           @ChipotleTweets I...|0.161|  0.0|0.839| -0.6551|       1.0|                     86|ChipotleTweets|2017-11-01 15:25:57|             54.75|    1|[-0.6551]|[-0.0210347099472...|[0.48948419591810...|       1.0|\n",
            "|     101|2017-10-30 15:29:18|           @ChipotleTweets H...|  0.0|  0.0|  1.0|     0.0|       0.0|                    101|ChipotleTweets|2017-10-30 15:44:33|             15.25|    0|    [0.0]|[0.01571664530046...|[0.50785767567836...|       0.0|\n",
            "|     108|2017-10-30 17:18:50|           @ChipotleTweets W...|  0.0|  0.0|  1.0|     0.0|       0.0|                    108|ChipotleTweets|2017-10-30 18:03:31| 44.68333333333333|    1|    [0.0]|[0.01571664530046...|[0.50785767567836...|       0.0|\n",
            "|     133|2017-10-31 14:45:07|           @ChipotleTweets G...|  0.0|  0.0|  1.0|     0.0|       0.0|                    133|ChipotleTweets|2017-10-31 15:13:00|27.883333333333333|    1|    [0.0]|[0.01571664530046...|[0.50785767567836...|       0.0|\n",
            "|     142|2017-10-31 18:38:25|           @ChipotleTweets C...| 0.18|  0.0| 0.82| -0.1926|      -1.0|                    142|ChipotleTweets|2017-10-31 19:06:00|27.583333333333332|    1|[-0.1926]|[0.00327086348232...|[0.50163542590893...|       0.0|\n",
            "|     183|2017-10-31 22:06:44|           @AskPlayStation I...|  0.0|  0.0|  1.0|     0.0|       0.0|                    183|AskPlayStation|2017-10-31 22:09:50|               3.1|    0|    [0.0]|[0.01571664530046...|[0.50785767567836...|       0.0|\n",
            "|     205|2017-10-31 22:04:20|           @MicrosoftHelps h...|0.139|0.139|0.722|     0.0|       0.0|                    205|MicrosoftHelps|2017-12-03 03:30:55|46406.583333333336|    1|    [0.0]|[0.01571664530046...|[0.50785767567836...|       0.0|\n",
            "|     225|2017-10-31 21:59:50|           @ATVIAssist So, w...|  0.0|  0.0|  1.0|     0.0|       0.0|                    225|    ATVIAssist|2017-10-31 22:09:32|               9.7|    0|    [0.0]|[0.01571664530046...|[0.50785767567836...|       0.0|\n",
            "|     232|2017-10-31 05:55:34|           @ATVIAssist For d...|  0.0|  0.0|  1.0|     0.0|       0.0|                    232|    ATVIAssist|2017-10-31 14:41:36| 526.0333333333333|    1|    [0.0]|[0.01571664530046...|[0.50785767567836...|       0.0|\n",
            "|     253|2017-10-29 21:02:31|           @115769 whats goi...|0.087|  0.0|0.913| -0.3167|      -2.0|                    253|     AdobeCare|2017-10-31 22:12:21|2949.8333333333335|    1|[-0.3167]|[0.04664535951185...|[0.52330577938336...|       0.0|\n",
            "|     255|2017-10-31 22:20:19|           @AdobeCare yes iv...|  0.0|0.286|0.714|  0.5859|       1.0|                    255|     AdobeCare|2017-10-31 22:24:18|3.9833333333333334|    0| [0.5859]|[-0.0049513427818...|[0.49752434883987...|       1.0|\n",
            "|     274|2017-11-22 09:44:04|      @AmazonHelp こちらこそ...|  0.0|  0.0|  1.0|     0.0|       0.0|                    274|    AmazonHelp|2017-11-22 10:06:26|22.366666666666667|    1|    [0.0]|[0.01571664530046...|[0.50785767567836...|       0.0|\n",
            "|     283|2017-10-28 13:37:52|           @115769 are there...|  0.0|  0.0|  1.0|     0.0|       0.0|                    283|     AdobeCare|2017-10-31 22:00:12| 4822.333333333333|    1|    [0.0]|[0.01571664530046...|[0.50785767567836...|       0.0|\n",
            "|     285|2017-10-31 20:16:08|           @AdobeCare @11577...|0.219|  0.0|0.781| -0.4215|       0.0|                    285|     AdobeCare|2017-10-31 21:54:16| 98.13333333333334|    1|[-0.4215]|[-0.0083821255198...|[0.49580903539202...|       1.0|\n",
            "|     297|2017-11-02 19:11:14|           @AdobeCare Here i...|  0.0|  0.0|  1.0|     0.0|      -1.0|                    297|     AdobeCare|2017-11-02 19:14:22|3.1333333333333333|    0|    [0.0]|[0.01571664530046...|[0.50785767567836...|       0.0|\n",
            "|     306|2017-10-31 21:43:40|           Quand ton @115783...|  0.0|  0.0|  1.0|     0.0|       0.0|                    306|    AirbnbHelp|2017-10-31 21:46:05|2.4166666666666665|    0|    [0.0]|[0.01571664530046...|[0.50785767567836...|       0.0|\n",
            "|     325|2017-11-22 08:55:35|amazonプライムビデオ、再生エ...|  0.0|  0.0|  1.0|     0.0|       0.0|                    325|    AmazonHelp|2017-11-22 09:06:00|10.416666666666666|    0|    [0.0]|[0.01571664530046...|[0.50785767567836...|       0.0|\n",
            "|     339|2017-11-10 18:03:05|           @AirAsiaSupport b...|0.203|  0.0|0.797| -0.4215|      -1.0|                    339|AirAsiaSupport|2017-11-11 13:06:21|1143.2666666666667|    1|[-0.4215]|[-0.0083821255198...|[0.49580903539202...|       1.0|\n",
            "+--------+-------------------+-------------------------------+-----+-----+-----+--------+----------+-----------------------+--------------+-------------------+------------------+-----+---------+--------------------+--------------------+----------+\n",
            "only showing top 20 rows\n",
            "\n"
          ]
        }
      ],
      "source": [
        "predictionsgbt2.show()"
      ]
    },
    {
      "cell_type": "markdown",
      "metadata": {
        "id": "cpSoe3uwVZhg"
      },
      "source": [
        "# **Understanding the prediction sentiments**"
      ]
    },
    {
      "cell_type": "code",
      "execution_count": 107,
      "metadata": {
        "id": "soRicuTvNrNS"
      },
      "outputs": [],
      "source": [
        "pred = predictionsgbt2.select(\"compound\",\"prediction\")"
      ]
    },
    {
      "cell_type": "code",
      "execution_count": 108,
      "metadata": {
        "id": "4iEr6FCsOB-M"
      },
      "outputs": [],
      "source": [
        "predpandas = pred.toPandas()"
      ]
    },
    {
      "cell_type": "code",
      "execution_count": 109,
      "metadata": {
        "id": "Fa6C19eTSF2A",
        "colab": {
          "base_uri": "https://localhost:8080/",
          "height": 206
        },
        "outputId": "48f227e8-bda0-4024-ba20-96b4abcb69cb"
      },
      "outputs": [
        {
          "output_type": "execute_result",
          "data": {
            "text/plain": [
              "   compound  prediction\n",
              "0   -0.5267         1.0\n",
              "1   -0.3595         1.0\n",
              "2   -0.6551         1.0\n",
              "3    0.0000         0.0\n",
              "4    0.0000         0.0"
            ],
            "text/html": [
              "\n",
              "  <div id=\"df-04bff0a5-b830-4910-800c-c505c3952f7a\">\n",
              "    <div class=\"colab-df-container\">\n",
              "      <div>\n",
              "<style scoped>\n",
              "    .dataframe tbody tr th:only-of-type {\n",
              "        vertical-align: middle;\n",
              "    }\n",
              "\n",
              "    .dataframe tbody tr th {\n",
              "        vertical-align: top;\n",
              "    }\n",
              "\n",
              "    .dataframe thead th {\n",
              "        text-align: right;\n",
              "    }\n",
              "</style>\n",
              "<table border=\"1\" class=\"dataframe\">\n",
              "  <thead>\n",
              "    <tr style=\"text-align: right;\">\n",
              "      <th></th>\n",
              "      <th>compound</th>\n",
              "      <th>prediction</th>\n",
              "    </tr>\n",
              "  </thead>\n",
              "  <tbody>\n",
              "    <tr>\n",
              "      <th>0</th>\n",
              "      <td>-0.5267</td>\n",
              "      <td>1.0</td>\n",
              "    </tr>\n",
              "    <tr>\n",
              "      <th>1</th>\n",
              "      <td>-0.3595</td>\n",
              "      <td>1.0</td>\n",
              "    </tr>\n",
              "    <tr>\n",
              "      <th>2</th>\n",
              "      <td>-0.6551</td>\n",
              "      <td>1.0</td>\n",
              "    </tr>\n",
              "    <tr>\n",
              "      <th>3</th>\n",
              "      <td>0.0000</td>\n",
              "      <td>0.0</td>\n",
              "    </tr>\n",
              "    <tr>\n",
              "      <th>4</th>\n",
              "      <td>0.0000</td>\n",
              "      <td>0.0</td>\n",
              "    </tr>\n",
              "  </tbody>\n",
              "</table>\n",
              "</div>\n",
              "      <button class=\"colab-df-convert\" onclick=\"convertToInteractive('df-04bff0a5-b830-4910-800c-c505c3952f7a')\"\n",
              "              title=\"Convert this dataframe to an interactive table.\"\n",
              "              style=\"display:none;\">\n",
              "        \n",
              "  <svg xmlns=\"http://www.w3.org/2000/svg\" height=\"24px\"viewBox=\"0 0 24 24\"\n",
              "       width=\"24px\">\n",
              "    <path d=\"M0 0h24v24H0V0z\" fill=\"none\"/>\n",
              "    <path d=\"M18.56 5.44l.94 2.06.94-2.06 2.06-.94-2.06-.94-.94-2.06-.94 2.06-2.06.94zm-11 1L8.5 8.5l.94-2.06 2.06-.94-2.06-.94L8.5 2.5l-.94 2.06-2.06.94zm10 10l.94 2.06.94-2.06 2.06-.94-2.06-.94-.94-2.06-.94 2.06-2.06.94z\"/><path d=\"M17.41 7.96l-1.37-1.37c-.4-.4-.92-.59-1.43-.59-.52 0-1.04.2-1.43.59L10.3 9.45l-7.72 7.72c-.78.78-.78 2.05 0 2.83L4 21.41c.39.39.9.59 1.41.59.51 0 1.02-.2 1.41-.59l7.78-7.78 2.81-2.81c.8-.78.8-2.07 0-2.86zM5.41 20L4 18.59l7.72-7.72 1.47 1.35L5.41 20z\"/>\n",
              "  </svg>\n",
              "      </button>\n",
              "      \n",
              "  <style>\n",
              "    .colab-df-container {\n",
              "      display:flex;\n",
              "      flex-wrap:wrap;\n",
              "      gap: 12px;\n",
              "    }\n",
              "\n",
              "    .colab-df-convert {\n",
              "      background-color: #E8F0FE;\n",
              "      border: none;\n",
              "      border-radius: 50%;\n",
              "      cursor: pointer;\n",
              "      display: none;\n",
              "      fill: #1967D2;\n",
              "      height: 32px;\n",
              "      padding: 0 0 0 0;\n",
              "      width: 32px;\n",
              "    }\n",
              "\n",
              "    .colab-df-convert:hover {\n",
              "      background-color: #E2EBFA;\n",
              "      box-shadow: 0px 1px 2px rgba(60, 64, 67, 0.3), 0px 1px 3px 1px rgba(60, 64, 67, 0.15);\n",
              "      fill: #174EA6;\n",
              "    }\n",
              "\n",
              "    [theme=dark] .colab-df-convert {\n",
              "      background-color: #3B4455;\n",
              "      fill: #D2E3FC;\n",
              "    }\n",
              "\n",
              "    [theme=dark] .colab-df-convert:hover {\n",
              "      background-color: #434B5C;\n",
              "      box-shadow: 0px 1px 3px 1px rgba(0, 0, 0, 0.15);\n",
              "      filter: drop-shadow(0px 1px 2px rgba(0, 0, 0, 0.3));\n",
              "      fill: #FFFFFF;\n",
              "    }\n",
              "  </style>\n",
              "\n",
              "      <script>\n",
              "        const buttonEl =\n",
              "          document.querySelector('#df-04bff0a5-b830-4910-800c-c505c3952f7a button.colab-df-convert');\n",
              "        buttonEl.style.display =\n",
              "          google.colab.kernel.accessAllowed ? 'block' : 'none';\n",
              "\n",
              "        async function convertToInteractive(key) {\n",
              "          const element = document.querySelector('#df-04bff0a5-b830-4910-800c-c505c3952f7a');\n",
              "          const dataTable =\n",
              "            await google.colab.kernel.invokeFunction('convertToInteractive',\n",
              "                                                     [key], {});\n",
              "          if (!dataTable) return;\n",
              "\n",
              "          const docLinkHtml = 'Like what you see? Visit the ' +\n",
              "            '<a target=\"_blank\" href=https://colab.research.google.com/notebooks/data_table.ipynb>data table notebook</a>'\n",
              "            + ' to learn more about interactive tables.';\n",
              "          element.innerHTML = '';\n",
              "          dataTable['output_type'] = 'display_data';\n",
              "          await google.colab.output.renderOutput(dataTable, element);\n",
              "          const docLink = document.createElement('div');\n",
              "          docLink.innerHTML = docLinkHtml;\n",
              "          element.appendChild(docLink);\n",
              "        }\n",
              "      </script>\n",
              "    </div>\n",
              "  </div>\n",
              "  "
            ]
          },
          "metadata": {},
          "execution_count": 109
        }
      ],
      "source": [
        "predpandas.head()"
      ]
    },
    {
      "cell_type": "code",
      "execution_count": 110,
      "metadata": {
        "id": "WzwYScsMSIRu"
      },
      "outputs": [],
      "source": [
        "prediction1 = predpandas[predpandas['prediction'] == 1]['compound']\n",
        "prediction0 = predpandas[predpandas['prediction'] == 0]['compound']"
      ]
    },
    {
      "cell_type": "code",
      "execution_count": 111,
      "metadata": {
        "id": "ocmnbhN2SgVb",
        "colab": {
          "base_uri": "https://localhost:8080/"
        },
        "outputId": "7d47b606-ada6-4395-8c63-8d3d9ed4bf15"
      },
      "outputs": [
        {
          "output_type": "execute_result",
          "data": {
            "text/plain": [
              "NormaltestResult(statistic=3285288.091779928, pvalue=0.0)"
            ]
          },
          "metadata": {},
          "execution_count": 111
        }
      ],
      "source": [
        "from scipy import stats\n",
        "stats.normaltest(prediction1)"
      ]
    },
    {
      "cell_type": "code",
      "execution_count": 112,
      "metadata": {
        "id": "G1wQplVcSuzn",
        "colab": {
          "base_uri": "https://localhost:8080/"
        },
        "outputId": "930fe38a-b841-4553-eaef-bfd95a0f6308"
      },
      "outputs": [
        {
          "output_type": "execute_result",
          "data": {
            "text/plain": [
              "NormaltestResult(statistic=27611.566938567426, pvalue=0.0)"
            ]
          },
          "metadata": {},
          "execution_count": 112
        }
      ],
      "source": [
        "stats.normaltest(prediction0)"
      ]
    },
    {
      "cell_type": "code",
      "execution_count": 113,
      "metadata": {
        "id": "4EQcaaHJSxt-",
        "colab": {
          "base_uri": "https://localhost:8080/"
        },
        "outputId": "e6643f6c-1997-4926-934e-ebe1d0eb760c"
      },
      "outputs": [
        {
          "output_type": "execute_result",
          "data": {
            "text/plain": [
              "MannwhitneyuResult(statistic=16700351180.0, pvalue=0.0)"
            ]
          },
          "metadata": {},
          "execution_count": 113
        }
      ],
      "source": [
        "#mannwhitneyu test as both groups are not normally distributed and independent\n",
        "stats.mannwhitneyu(prediction0,prediction1)"
      ]
    },
    {
      "cell_type": "code",
      "execution_count": 114,
      "metadata": {
        "id": "6jgu408ZTFIA"
      },
      "outputs": [],
      "source": [
        "#groups are significantly different"
      ]
    },
    {
      "cell_type": "code",
      "execution_count": 115,
      "metadata": {
        "id": "owh2fs2UTJDO",
        "colab": {
          "base_uri": "https://localhost:8080/"
        },
        "outputId": "10d0c35b-d742-49e8-8085-d6aa72f9b32d"
      },
      "outputs": [
        {
          "output_type": "execute_result",
          "data": {
            "text/plain": [
              "count    193535.000000\n",
              "mean         -0.190844\n",
              "std           0.491605\n",
              "min          -0.998700\n",
              "25%          -0.599400\n",
              "50%          -0.401900\n",
              "75%           0.296000\n",
              "max           0.638100\n",
              "Name: compound, dtype: float64"
            ]
          },
          "metadata": {},
          "execution_count": 115
        }
      ],
      "source": [
        "prediction1.describe()"
      ]
    },
    {
      "cell_type": "code",
      "execution_count": 116,
      "metadata": {
        "id": "rxHu7wmGTOsZ",
        "colab": {
          "base_uri": "https://localhost:8080/"
        },
        "outputId": "312b3afb-d5a8-4ac7-f0cc-80b0a49772ff"
      },
      "outputs": [
        {
          "output_type": "execute_result",
          "data": {
            "text/plain": [
              "count    294593.000000\n",
              "mean          0.163296\n",
              "std           0.335143\n",
              "min          -0.340800\n",
              "25%           0.000000\n",
              "50%           0.000000\n",
              "75%           0.401900\n",
              "max           0.999400\n",
              "Name: compound, dtype: float64"
            ]
          },
          "metadata": {},
          "execution_count": 116
        }
      ],
      "source": [
        "prediction0.describe()"
      ]
    },
    {
      "cell_type": "code",
      "execution_count": 117,
      "metadata": {
        "id": "mZd1RWMqTS4X",
        "colab": {
          "base_uri": "https://localhost:8080/",
          "height": 404
        },
        "outputId": "77bae814-6751-42ba-8678-716cca001302"
      },
      "outputs": [
        {
          "output_type": "stream",
          "name": "stderr",
          "text": [
            "/usr/local/lib/python3.7/dist-packages/seaborn/distributions.py:2619: FutureWarning: `distplot` is a deprecated function and will be removed in a future version. Please adapt your code to use either `displot` (a figure-level function with similar flexibility) or `kdeplot` (an axes-level function for kernel density plots).\n",
            "  warnings.warn(msg, FutureWarning)\n",
            "/usr/local/lib/python3.7/dist-packages/seaborn/distributions.py:2619: FutureWarning: `distplot` is a deprecated function and will be removed in a future version. Please adapt your code to use either `displot` (a figure-level function with similar flexibility) or `kdeplot` (an axes-level function for kernel density plots).\n",
            "  warnings.warn(msg, FutureWarning)\n"
          ]
        },
        {
          "output_type": "execute_result",
          "data": {
            "text/plain": [
              "Text(0.5, 1.0, 'Density plot for sentiment score of both the classes')"
            ]
          },
          "metadata": {},
          "execution_count": 117
        },
        {
          "output_type": "display_data",
          "data": {
            "text/plain": [
              "<Figure size 432x288 with 1 Axes>"
            ],
            "image/png": "[encoded data removed]"
          },
          "metadata": {
            "needs_background": "light"
          }
        }
      ],
      "source": [
        "from matplotlib import pyplot as plt\n",
        "import seaborn as sns\n",
        "sns.distplot(prediction0, hist=False, kde=True, bins=50, color = 'darkblue', hist_kws={'edgecolor':'black'},kde_kws={'linewidth': 4},label = 'predicted to give early response')\n",
        "sns.distplot(prediction1, hist=False, kde=True, bins=50, color = 'red', hist_kws={'edgecolor':'black'},kde_kws={'linewidth': 4}, label = 'predicted to give late response')\n",
        "plt.xlabel('Age (years)')\n",
        "plt.legend()\n",
        "plt.title('Density plot for sentiment score of both the classes')"
      ]
    },
    {
      "cell_type": "code",
      "execution_count": 118,
      "metadata": {
        "id": "Cn9p0pSG9qF6"
      },
      "outputs": [],
      "source": [
        "#predictionsgbt40 = predictionsgbt2.filter(predictionsgbt4.prediction == 0.0) "
      ]
    },
    {
      "cell_type": "code",
      "execution_count": 119,
      "metadata": {
        "id": "1w_iXNMq_W0i"
      },
      "outputs": [],
      "source": [
        "#predictionsgbt41 = predictionsgbt2.filter(predictionsgbt4.prediction == 1.0) "
      ]
    },
    {
      "cell_type": "code",
      "execution_count": 120,
      "metadata": {
        "id": "MDr8TMMOI3VZ"
      },
      "outputs": [],
      "source": [
        "#predictionsgbt40.describe(['compound']).show()"
      ]
    },
    {
      "cell_type": "code",
      "execution_count": 121,
      "metadata": {
        "id": "y0y80cQoI3Me"
      },
      "outputs": [],
      "source": [
        "#predictionsgbt41.describe(['compound']).show()"
      ]
    },
    {
      "cell_type": "markdown",
      "metadata": {
        "id": "FFAUHiJwxm7R"
      },
      "source": [
        "# **Linear regression for the big dataset**"
      ]
    },
    {
      "cell_type": "markdown",
      "metadata": {
        "id": "EKa8JRwOxyOF"
      },
      "source": [
        "# **Vector assembling and splitting into test and train**"
      ]
    },
    {
      "cell_type": "code",
      "execution_count": 122,
      "metadata": {
        "id": "SZDYLq7QxmZq",
        "colab": {
          "base_uri": "https://localhost:8080/"
        },
        "outputId": "41f1baec-1e47-4d95-d666-19e6d9dbfc0f"
      },
      "outputs": [
        {
          "output_type": "stream",
          "name": "stdout",
          "text": [
            "+---------+------------------+\n",
            "| features|      response_dur|\n",
            "+---------+------------------+\n",
            "| [-0.296]|2.3333333333333335|\n",
            "|[-0.5267]|           1363.45|\n",
            "|[-0.5267]|1362.8833333333334|\n",
            "|[-0.5267]|               5.8|\n",
            "|    [0.0]|               2.8|\n",
            "+---------+------------------+\n",
            "only showing top 5 rows\n",
            "\n"
          ]
        }
      ],
      "source": [
        "from pyspark.ml.feature import VectorAssembler\n",
        "vectorAssembler2 = VectorAssembler(inputCols = ['compound'], outputCol = 'features')\n",
        "tweetfinallin2 = vectorAssembler2.transform(tweetfinal5)\n",
        "tweetfinallin2 = tweetfinallin2.select(['features', 'response_dur'])\n",
        "tweetfinallin2.show(5)"
      ]
    },
    {
      "cell_type": "code",
      "execution_count": 123,
      "metadata": {
        "id": "QX_svpa2yATh"
      },
      "outputs": [],
      "source": [
        "splits2 = tweetfinallin2.randomSplit([0.7, 0.3],50)\n",
        "train_df2 = splits2[0]\n",
        "test_df2 = splits2[1]"
      ]
    },
    {
      "cell_type": "markdown",
      "metadata": {
        "id": "xs7AWtfsyFmZ"
      },
      "source": [
        "# **Fitting the model**"
      ]
    },
    {
      "cell_type": "code",
      "execution_count": 124,
      "metadata": {
        "id": "mtqv_dPkyFBp",
        "colab": {
          "base_uri": "https://localhost:8080/"
        },
        "outputId": "c6958e01-1ce9-4a02-f5fe-dcb995ba8e6c"
      },
      "outputs": [
        {
          "output_type": "stream",
          "name": "stdout",
          "text": [
            "Coefficients: [23.575888035085345]\n",
            "Intercept: 286.60349582359595\n"
          ]
        }
      ],
      "source": [
        "from pyspark.ml.regression import LinearRegression\n",
        "linreg2 = LinearRegression(featuresCol = 'features', labelCol='response_dur')\n",
        "M2 = linreg2.fit(train_df2)\n",
        "print(\"Coefficients: \" + str(M2.coefficients))\n",
        "print(\"Intercept: \" + str(M2.intercept))"
      ]
    },
    {
      "cell_type": "markdown",
      "metadata": {
        "id": "17h7TtolyZQp"
      },
      "source": [
        "# **Getting R2 and rmse values**"
      ]
    },
    {
      "cell_type": "code",
      "execution_count": 125,
      "metadata": {
        "id": "zzJCOhjuycBe",
        "colab": {
          "base_uri": "https://localhost:8080/"
        },
        "outputId": "b689d26f-3727-4f57-9332-64537b759ba0"
      },
      "outputs": [
        {
          "output_type": "stream",
          "name": "stdout",
          "text": [
            "RMSE: 5606.067696\n",
            "r2: 0.000003\n"
          ]
        }
      ],
      "source": [
        "trainingSummary2 = M2.summary\n",
        "print(\"RMSE: %f\" % trainingSummary2.rootMeanSquaredError)\n",
        "print(\"r2: %f\" % trainingSummary2.r2)"
      ]
    },
    {
      "cell_type": "markdown",
      "metadata": {
        "id": "QvjF8I59yj47"
      },
      "source": [
        "# **Getting prediction values**"
      ]
    },
    {
      "cell_type": "code",
      "execution_count": 126,
      "metadata": {
        "id": "DIwPzegZylRC",
        "colab": {
          "base_uri": "https://localhost:8080/"
        },
        "outputId": "d4f3b694-878e-4cbe-f463-b1e0c97e95b9"
      },
      "outputs": [
        {
          "output_type": "stream",
          "name": "stdout",
          "text": [
            "+------------------+------------------+---------+\n",
            "|        prediction|      response_dur| features|\n",
            "+------------------+------------------+---------+\n",
            "| 263.2515787248439|1714.3833333333334|[-0.9905]|\n",
            "| 263.3175912113422|              73.6|[-0.9877]|\n",
            "|263.35059745459125|63.583333333333336|[-0.9863]|\n",
            "| 263.4071795858755| 8.116666666666667|[-0.9839]|\n",
            "|263.47083448357023|139.51666666666668|[-0.9812]|\n",
            "| 263.5085559044263|              2.65|[-0.9796]|\n",
            "|263.56513803571056|               3.2|[-0.9772]|\n",
            "|263.56749562451404|160.16666666666666|[-0.9771]|\n",
            "| 263.5745683909246|             137.9|[-0.9768]|\n",
            "|263.60050186776317|             24.35|[-0.9757]|\n",
            "| 263.6287929334053|2.5833333333333335|[-0.9745]|\n",
            "|263.64765364383334|46.333333333333336|[-0.9737]|\n",
            "| 263.6735871206719| 97.93333333333334|[-0.9726]|\n",
            "| 263.7089509527246| 7.233333333333333|[-0.9711]|\n",
            "| 263.7183813079386| 87.03333333333333|[-0.9707]|\n",
            "| 263.7230964855456|47.916666666666664|[-0.9705]|\n",
            "| 263.7490299623842| 96.28333333333333|[-0.9694]|\n",
            "|263.75846031759824|358.93333333333334| [-0.969]|\n",
            "|263.77732102802634|            6855.5|[-0.9682]|\n",
            "|263.78675138324036|              68.5|[-0.9678]|\n",
            "+------------------+------------------+---------+\n",
            "only showing top 20 rows\n",
            "\n"
          ]
        }
      ],
      "source": [
        "predictionslinreg2 = M2.transform(test_df2)\n",
        "predictionslinreg2.select(\"prediction\",\"response_dur\",\"features\").show()"
      ]
    },
    {
      "cell_type": "code",
      "execution_count": 127,
      "metadata": {
        "id": "tOUBnqFb5ROl",
        "colab": {
          "base_uri": "https://localhost:8080/"
        },
        "outputId": "f72a4fa0-3228-476b-a1bf-e9f1d8519702"
      },
      "outputs": [
        {
          "output_type": "stream",
          "name": "stdout",
          "text": [
            "+-------+------------------+\n",
            "|summary|        prediction|\n",
            "+-------+------------------+\n",
            "|  count|            366078|\n",
            "|   mean| 287.1457099624558|\n",
            "| stddev|10.368590386161761|\n",
            "|    min|263.09362027500885|\n",
            "|    max|310.17466868107425|\n",
            "+-------+------------------+\n",
            "\n"
          ]
        }
      ],
      "source": [
        "predictionslinreg2.describe(['prediction']).show()"
      ]
    },
    {
      "cell_type": "code",
      "execution_count": 127,
      "metadata": {
        "id": "5MTQB4SP_NSx"
      },
      "outputs": [],
      "source": [
        ""
      ]
    }
  ],
  "metadata": {
    "colab": {
      "collapsed_sections": [
        "FFAUHiJwxm7R"
      ],
      "name": "CC_project2.ipynb",
      "provenance": []
    },
    "kernelspec": {
      "display_name": "Python 3",
      "name": "python3"
    },
    "language_info": {
      "name": "python"
    }
  },
  "nbformat": 4,
  "nbformat_minor": 0
}